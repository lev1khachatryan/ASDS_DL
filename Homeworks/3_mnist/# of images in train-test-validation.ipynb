{
 "cells": [
  {
   "cell_type": "code",
   "execution_count": 47,
   "metadata": {},
   "outputs": [],
   "source": [
    "import os, os.path\n",
    "# image_path = '_inputs_image/all/train/image/'\n",
    "# image_path = '_inputs_image/all/test/image/'\n",
    "image_path = '_inputs_image/all/validation/image/'"
   ]
  },
  {
   "cell_type": "code",
   "execution_count": 48,
   "metadata": {},
   "outputs": [],
   "source": [
    "subFolderList = []\n",
    "for x in os.listdir(image_path):\n",
    "    if os.path.isdir(image_path + '/' + x):\n",
    "        subFolderList.append(x)"
   ]
  },
  {
   "cell_type": "code",
   "execution_count": 49,
   "metadata": {},
   "outputs": [
    {
     "name": "stdout",
     "output_type": "stream",
     "text": [
      "count: 876 : 0\n",
      "count: 961 : 1\n",
      "count: 849 : 2\n",
      "count: 833 : 3\n",
      "count: 721 : 4\n",
      "count: 781 : 5\n",
      "count: 791 : 6\n",
      "count: 900 : 7\n",
      "count: 868 : 8\n",
      "count: 831 : 9\n",
      "8411\n"
     ]
    }
   ],
   "source": [
    "total = 0\n",
    "for x in subFolderList:\n",
    "    all_files = [y for y in os.listdir(image_path + x) if '.png' in y]\n",
    "    total += len(all_files)\n",
    "    \n",
    "    # show file counts\n",
    "    print('count: %d : %s' % (len(all_files), x ))\n",
    "print(total)"
   ]
  }
 ],
 "metadata": {
  "kernelspec": {
   "display_name": "Python 3",
   "language": "python",
   "name": "python3"
  },
  "language_info": {
   "codemirror_mode": {
    "name": "ipython",
    "version": 3
   },
   "file_extension": ".py",
   "mimetype": "text/x-python",
   "name": "python",
   "nbconvert_exporter": "python",
   "pygments_lexer": "ipython3",
   "version": "3.7.3"
  }
 },
 "nbformat": 4,
 "nbformat_minor": 2
}
