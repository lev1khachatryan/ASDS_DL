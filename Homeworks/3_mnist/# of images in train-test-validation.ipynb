{
 "cells": [
  {
   "cell_type": "code",
   "execution_count": 23,
   "metadata": {},
   "outputs": [],
   "source": [
    "import os, os.path\n",
    "# image_path = '_inputs_image/all/train/image/'\n",
    "# image_path = '_inputs_image/all/test/image/'\n",
    "image_path = '_inputs_image/all/validation/image/'"
   ]
  },
  {
   "cell_type": "code",
   "execution_count": 24,
   "metadata": {},
   "outputs": [],
   "source": [
    "subFolderList = []\n",
    "for x in os.listdir(image_path):\n",
    "    if os.path.isdir(image_path + '/' + x):\n",
    "        subFolderList.append(x)"
   ]
  },
  {
   "cell_type": "code",
   "execution_count": 25,
   "metadata": {},
   "outputs": [
    {
     "name": "stdout",
     "output_type": "stream",
     "text": [
      "count: 319 : 0\n",
      "count: 335 : 1\n",
      "count: 301 : 2\n",
      "count: 305 : 3\n",
      "count: 251 : 4\n",
      "count: 274 : 5\n",
      "count: 261 : 6\n",
      "count: 323 : 7\n",
      "count: 316 : 8\n",
      "count: 315 : 9\n",
      "3000\n"
     ]
    }
   ],
   "source": [
    "sample_image = []\n",
    "total = 0\n",
    "for x in subFolderList:\n",
    "    all_files = [y for y in os.listdir(image_path + x) if '.png' in y]\n",
    "    total += len(all_files)\n",
    "    # collect the first file from each dir\n",
    "    sample_image.append(image_path  + x + '/'+ all_files[0])\n",
    "    \n",
    "    # show file counts\n",
    "    print('count: %d : %s' % (len(all_files), x ))\n",
    "print(total)"
   ]
  },
  {
   "cell_type": "code",
   "execution_count": null,
   "metadata": {},
   "outputs": [],
   "source": []
  }
 ],
 "metadata": {
  "kernelspec": {
   "display_name": "Python 3",
   "language": "python",
   "name": "python3"
  },
  "language_info": {
   "codemirror_mode": {
    "name": "ipython",
    "version": 3
   },
   "file_extension": ".py",
   "mimetype": "text/x-python",
   "name": "python",
   "nbconvert_exporter": "python",
   "pygments_lexer": "ipython3",
   "version": "3.7.3"
  }
 },
 "nbformat": 4,
 "nbformat_minor": 2
}
