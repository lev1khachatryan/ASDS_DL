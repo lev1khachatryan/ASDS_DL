{
 "cells": [
  {
   "cell_type": "markdown",
   "metadata": {},
   "source": [
    "# <div align=\"center\">Linear approximation of $\\sqrt{1+x}$ where $x \\in [0,1]$</div>\n",
    "---------------------------------------------------------------------"
   ]
  },
  {
   "cell_type": "markdown",
   "metadata": {},
   "source": [
    " "
   ]
  },
  {
   "cell_type": "code",
   "execution_count": 67,
   "metadata": {},
   "outputs": [
    {
     "name": "stdout",
     "output_type": "stream",
     "text": [
      "tensorflow versio:  1.14.0\n"
     ]
    },
    {
     "data": {
      "text/plain": [
       "<Figure size 1152x576 with 0 Axes>"
      ]
     },
     "metadata": {},
     "output_type": "display_data"
    }
   ],
   "source": [
    "import pandas as pd\n",
    "\n",
    "import numpy as np\n",
    "from numpy.linalg import inv\n",
    "\n",
    "from matplotlib import pyplot as plt\n",
    "plt.style.use(['ggplot'])\n",
    "%matplotlib inline\n",
    "fig = plt.figure(figsize = (16,8))\n",
    "\n",
    "from sklearn.linear_model import LinearRegression as LR\n",
    "from sklearn.linear_model import Ridge\n",
    "from sklearn.model_selection import train_test_split\n",
    "from sklearn.preprocessing import PolynomialFeatures\n",
    "\n",
    "import tensorflow as tf\n",
    "print('tensorflow versio: ', tf.__version__)\n",
    "\n",
    "import warnings\n",
    "warnings.filterwarnings('ignore')"
   ]
  },
  {
   "cell_type": "code",
   "execution_count": 2,
   "metadata": {},
   "outputs": [],
   "source": [
    "np.random.seed(22)\n",
    "tf.set_random_seed(22)"
   ]
  },
  {
   "cell_type": "code",
   "execution_count": 3,
   "metadata": {},
   "outputs": [],
   "source": [
    "# Number of data points \n",
    "n = 10000"
   ]
  },
  {
   "cell_type": "code",
   "execution_count": 4,
   "metadata": {},
   "outputs": [],
   "source": [
    "X = np.random.random(n).reshape((n, 1))\n",
    "y = np.sqrt(1+X)"
   ]
  },
  {
   "cell_type": "code",
   "execution_count": 5,
   "metadata": {},
   "outputs": [
    {
     "data": {
      "image/png": "[encoded data removed]",
      "text/plain": [
       "<Figure size 432x288 with 1 Axes>"
      ]
     },
     "metadata": {
      "needs_background": "light"
     },
     "output_type": "display_data"
    }
   ],
   "source": [
    "plt.plot(X, y, 'ro', label ='Original data')\n",
    "plt.title('Generated data')\n",
    "plt.legend()\n",
    "plt.show()"
   ]
  },
  {
   "cell_type": "markdown",
   "metadata": {},
   "source": [
    " "
   ]
  },
  {
   "cell_type": "code",
   "execution_count": 6,
   "metadata": {},
   "outputs": [],
   "source": [
    "X_train, X_test, y_train, y_test = train_test_split(X, y, test_size=0.2, random_state=22)\n",
    "\n",
    "X_train, X_val, y_train, y_val = train_test_split(X_train, y_train, test_size=0.2, random_state=22)"
   ]
  },
  {
   "cell_type": "markdown",
   "metadata": {},
   "source": [
    "# 1. With closed-form:\n",
    "\n",
    "For linear regression on a model of the form $y=X \\beta$, where $X$ is a matrix with ***full column rank***, the least squares solution,\n",
    "\n",
    "$\\hat{\\beta}=argmin||X \\beta - y||_{2}$\n",
    "\n",
    "is given by\n",
    "\n",
    "$\\hat{\\beta}=(X^{T}X)^{-1}X^{T}y$\n",
    "\n",
    "Here requires the inversion of $X^{T}X$. If this matrix is not of full rank (i.e. there are linearly dependent columns) or if it is poorly conditioned (i.e. eigen values which are very close to zero) then the inversion can either be impossible, or numerically unstable.\n",
    "\n",
    "A solution is to add a small element to the diagonal such that the eigen-values (and the matrix) are better conditioned\n",
    "\n",
    "$\\hat{\\beta} = (X^{T}X+ \\lambda^{2} I_{n})^{-1}X^{T}y$\n",
    "\n",
    "This is actually the solution to the following quadratic cost function:\n",
    "\n",
    "$J(\\beta)=(y - X \\beta )^{T} (y - X \\beta) + \\lambda^{2} \\beta ^{T} \\beta$\n",
    "\n",
    "This is proven as follows:\n",
    "\n",
    "$J(\\beta)=(y - X \\beta )^{T} (y - X \\beta) + \\lambda^{2} \\beta ^{T} \\beta = \n",
    "(y^{T} - \\beta^{T} X^{T} ) (y - X \\beta) + \\lambda^{2} \\beta ^{T} \\beta = \n",
    "y^{T}y - y^{T}X \\beta - \\beta^{T} X^{T}y + \\beta^{T} X^{T}X \\beta + \\lambda^{2} \\beta ^{T} \\beta = \n",
    "y^{T}y - 2\\beta^{T} X^{T}y + \\beta^{T} X^{T}X \\beta + \\lambda^{2} \\beta ^{T} \\beta$\n",
    "\n",
    "Then Calculate gradient by $\\beta$ and we will obtain above mentioned equation."
   ]
  },
  {
   "cell_type": "markdown",
   "metadata": {},
   "source": [
    " "
   ]
  },
  {
   "cell_type": "code",
   "execution_count": 7,
   "metadata": {},
   "outputs": [],
   "source": [
    "# create vector of ones\n",
    "int = np.ones(shape=y_train.shape[0])[..., None]\n",
    "\n",
    "#and add to feature matrix\n",
    "X_train_with_ones = np.concatenate((int, X_train), 1)"
   ]
  },
  {
   "cell_type": "code",
   "execution_count": 8,
   "metadata": {},
   "outputs": [],
   "source": [
    "# # calculate coefficients using closed-form solution\n",
    "# coeffs = inv(X_train_with_ones.transpose().dot(X_train_with_ones)).dot(X_train_with_ones.transpose()).dot(y_train)"
   ]
  },
  {
   "cell_type": "code",
   "execution_count": 9,
   "metadata": {},
   "outputs": [],
   "source": [
    "def closed_form_reg_solution(X, y, lamda = 0.1): \n",
    "    '''\n",
    "    Closed form solution for ridge regression\n",
    "    \n",
    "    Parameters:\n",
    "        X (list or nd.array) - actual inputs\n",
    "        y (list or nd.array) - actual labels\n",
    "        lambda(float)\n",
    "        \n",
    "    Returns:\n",
    "        list (coefficients)\n",
    "    '''\n",
    "    m,n = X.shape\n",
    "    I = np.eye((n))\n",
    "    return (inv(X.transpose().dot(X) + lamda * I)).dot(X.transpose()).dot(y)[:,0]"
   ]
  },
  {
   "cell_type": "code",
   "execution_count": 10,
   "metadata": {},
   "outputs": [],
   "source": [
    "def mse(actual, predicted):\n",
    "    \"\"\"\n",
    "    Calculate mean squared error\n",
    "    \n",
    "    Parameters:\n",
    "        actual (nd.array) - actual values\n",
    "        predicted (nd.array) - predicted values\n",
    "    \n",
    "    Return:\n",
    "        float(mse)\n",
    "    \"\"\"\n",
    "    return (np.square(actual - predicted)).mean()"
   ]
  },
  {
   "cell_type": "code",
   "execution_count": 11,
   "metadata": {},
   "outputs": [],
   "source": [
    "lambdas = [0.01, 0.1, 1, 10]\n",
    "mse_s = []\n",
    "for i in range(len(lambdas)):\n",
    "    coeffs = closed_form_reg_solution(X_train_with_ones, y_train, lamda=lambdas[i])\n",
    "    prediction = coeffs[0] * X_val + coeffs[1]\n",
    "    mse_s.append(mse(y_val,prediction ))"
   ]
  },
  {
   "cell_type": "code",
   "execution_count": 12,
   "metadata": {},
   "outputs": [],
   "source": [
    "best_lambda_index = np.argmin(mse_s)"
   ]
  },
  {
   "cell_type": "code",
   "execution_count": 13,
   "metadata": {},
   "outputs": [],
   "source": [
    "best_lambda = lambdas[best_lambda_index]"
   ]
  },
  {
   "cell_type": "code",
   "execution_count": 14,
   "metadata": {},
   "outputs": [],
   "source": [
    "coeffs = closed_form_reg_solution(X_train_with_ones, y_train, lamda=best_lambda)"
   ]
  },
  {
   "cell_type": "code",
   "execution_count": 15,
   "metadata": {},
   "outputs": [
    {
     "name": "stdout",
     "output_type": "stream",
     "text": [
      "Intercept:       1.010,\n",
      "Slope:           0.414\n",
      "Approximated function:  1.01 + 0.414 * X\n"
     ]
    }
   ],
   "source": [
    "intercept_closed_form = np.round(coeffs[0], 3)\n",
    "slope_closed_form = np.round(coeffs[1], 3)\n",
    "print('Intercept:       {:0.3f},\\nSlope:           {:0.3f}'.format(intercept_closed_form, slope_closed_form))\n",
    "print('Approximated function: ', intercept_closed_form, '+', slope_closed_form, '* X' )"
   ]
  },
  {
   "cell_type": "code",
   "execution_count": 16,
   "metadata": {
    "scrolled": true
   },
   "outputs": [
    {
     "name": "stdout",
     "output_type": "stream",
     "text": [
      "MSE in Test dataset:  3.213040634227542e-05\n"
     ]
    },
    {
     "data": {
      "image/png": "[encoded data removed]",
      "text/plain": [
       "<Figure size 432x288 with 1 Axes>"
      ]
     },
     "metadata": {
      "needs_background": "light"
     },
     "output_type": "display_data"
    }
   ],
   "source": [
    "prediction = slope_closed_form * X_test + intercept_closed_form\n",
    "\n",
    "print('MSE in Test dataset: ', mse(y_test, prediction))\n",
    "\n",
    "plt.plot(X_test, y_test, 'ro', label ='test data')\n",
    "plt.plot(X_test, prediction, label ='Fitted line', color='green')\n",
    "plt.title('Closed form solution result')\n",
    "plt.legend()\n",
    "plt.show()"
   ]
  },
  {
   "cell_type": "markdown",
   "metadata": {},
   "source": [
    " "
   ]
  },
  {
   "cell_type": "markdown",
   "metadata": {},
   "source": [
    "# 2. With sklearn"
   ]
  },
  {
   "cell_type": "markdown",
   "metadata": {},
   "source": [
    " "
   ]
  },
  {
   "cell_type": "code",
   "execution_count": 17,
   "metadata": {},
   "outputs": [],
   "source": [
    "lambdas = [0.01, 0.1, 1, 10]\n",
    "mse_s = []\n",
    "\n",
    "for i in range(len(lambdas)):\n",
    "    \n",
    "    regressor = Ridge(alpha=i, random_state=42)\n",
    "    regressor.fit(X_train, y_train)\n",
    "    prediction = regressor.predict(X_val)\n",
    "    mse_s.append(mse(y_val, prediction ))"
   ]
  },
  {
   "cell_type": "code",
   "execution_count": 18,
   "metadata": {},
   "outputs": [],
   "source": [
    "best_lambda_index = np.argmin(mse_s)"
   ]
  },
  {
   "cell_type": "code",
   "execution_count": 19,
   "metadata": {},
   "outputs": [],
   "source": [
    "best_lambda = lambdas[best_lambda_index]"
   ]
  },
  {
   "cell_type": "code",
   "execution_count": 20,
   "metadata": {},
   "outputs": [
    {
     "data": {
      "text/plain": [
       "Ridge(alpha=0.01, copy_X=True, fit_intercept=True, max_iter=None,\n",
       "   normalize=False, random_state=42, solver='auto', tol=0.001)"
      ]
     },
     "execution_count": 20,
     "metadata": {},
     "output_type": "execute_result"
    }
   ],
   "source": [
    "regressor = Ridge(alpha=best_lambda, random_state=42)\n",
    "regressor.fit(X_train, y_train)"
   ]
  },
  {
   "cell_type": "code",
   "execution_count": 21,
   "metadata": {},
   "outputs": [
    {
     "name": "stdout",
     "output_type": "stream",
     "text": [
      "Intercept:       1.013,\n",
      "Slope:           0.412\n",
      "Approximated function:  1.013 + 0.412 * X\n"
     ]
    }
   ],
   "source": [
    "intercept_ridge = np.round(regressor.intercept_[0], 3)\n",
    "slope_ridge = np.round(regressor.coef_[0, 0], 3)\n",
    "print('Intercept:       {:0.3f},\\nSlope:           {:0.3f}'.format(intercept_ridge, slope_ridge))\n",
    "print('Approximated function: ', intercept_ridge, '+', slope_ridge, '* X' )"
   ]
  },
  {
   "cell_type": "code",
   "execution_count": 22,
   "metadata": {
    "scrolled": true
   },
   "outputs": [
    {
     "name": "stdout",
     "output_type": "stream",
     "text": [
      "MSE in Test dataset:  2.807983644111036e-05\n"
     ]
    },
    {
     "data": {
      "image/png": "[encoded data removed]",
      "text/plain": [
       "<Figure size 432x288 with 1 Axes>"
      ]
     },
     "metadata": {
      "needs_background": "light"
     },
     "output_type": "display_data"
    }
   ],
   "source": [
    "prediction = regressor.predict(X_test)\n",
    "\n",
    "print('MSE in Test dataset: ', mse(y_test, prediction))\n",
    "\n",
    "plt.plot(X_test, y_test, 'ro', label ='Original data')\n",
    "plt.plot(X_test, prediction, label ='Fitted line', color='green')\n",
    "plt.title('Ridge Regression Result')\n",
    "plt.legend()\n",
    "plt.show()"
   ]
  },
  {
   "cell_type": "markdown",
   "metadata": {},
   "source": [
    " "
   ]
  },
  {
   "cell_type": "markdown",
   "metadata": {},
   "source": [
    " "
   ]
  },
  {
   "cell_type": "code",
   "execution_count": 23,
   "metadata": {
    "scrolled": true
   },
   "outputs": [
    {
     "data": {
      "text/plain": [
       "LinearRegression(copy_X=True, fit_intercept=True, n_jobs=None,\n",
       "         normalize=False)"
      ]
     },
     "execution_count": 23,
     "metadata": {},
     "output_type": "execute_result"
    }
   ],
   "source": [
    "regressor_lr = LR()\n",
    "regressor_lr.fit(X_train, y_train)"
   ]
  },
  {
   "cell_type": "code",
   "execution_count": 24,
   "metadata": {},
   "outputs": [
    {
     "name": "stdout",
     "output_type": "stream",
     "text": [
      "Intercept:       1.013,\n",
      "Slope:           0.410\n",
      "Approximated function:  1.013 + 0.41 * X\n"
     ]
    }
   ],
   "source": [
    "intercept_lr = np.round(regressor_lr.intercept_[0], 3)\n",
    "slope_lr = np.round(regressor_lr.coef_[0, 0], 2)\n",
    "print('Intercept:       {:0.3f},\\nSlope:           {:0.3f}'.format(intercept_lr, slope_lr))\n",
    "print('Approximated function: ', intercept_lr, '+', slope_lr, '* X' )"
   ]
  },
  {
   "cell_type": "code",
   "execution_count": 25,
   "metadata": {},
   "outputs": [
    {
     "name": "stdout",
     "output_type": "stream",
     "text": [
      "MSE in Test dataset:  2.808075194613095e-05\n"
     ]
    },
    {
     "data": {
      "image/png": "[encoded data removed]",
      "text/plain": [
       "<Figure size 432x288 with 1 Axes>"
      ]
     },
     "metadata": {
      "needs_background": "light"
     },
     "output_type": "display_data"
    }
   ],
   "source": [
    "prediction = regressor_lr.predict(X_test)\n",
    "\n",
    "print('MSE in Test dataset: ', mse(y_test, prediction))\n",
    "\n",
    "plt.plot(X_test, y_test, 'ro', label ='Original data')\n",
    "plt.plot(X_test, prediction, label ='Fitted line', color='green')\n",
    "plt.title('Linear Regression Result')\n",
    "plt.legend()\n",
    "plt.show()"
   ]
  },
  {
   "cell_type": "markdown",
   "metadata": {},
   "source": [
    " "
   ]
  },
  {
   "cell_type": "markdown",
   "metadata": {},
   "source": [
    "# 3. With Implemented gradient descent"
   ]
  },
  {
   "cell_type": "markdown",
   "metadata": {},
   "source": [
    "<b>Gradient</b>\n",
    "\n",
    "\\begin{equation}\n",
    "\\frac{\\partial J(\\theta)}{\\partial \\theta_j} = 1/m\\sum_{i=1}^{m}(h(\\theta^{(i)} - y^{(i)}).X_j^{(i)}\n",
    "\\end{equation}\n",
    "\n",
    "<b>Gradients</b>\n",
    "\\begin{equation}\n",
    "\\theta_0: = \\theta_{0} -\\alpha . (1/m .\\sum_{i=1}^{m}(h(\\theta^{(i)} - y^{(i)}).X_0^{(i)})\n",
    "\\end{equation}\n",
    "\\begin{equation}\n",
    "\\theta_1: = \\theta_{1} -\\alpha . (1/m .\\sum_{i=1}^{m}(h(\\theta^{(i)} - y^{(i)}).X_1^{(i)})\n",
    "\\end{equation}\n",
    "\\begin{equation}\n",
    "\\theta_2: = \\theta_{2} -\\alpha . (1/m .\\sum_{i=1}^{m}(h(\\theta^{(i)} - y^{(i)}).X_2^{(i)})\n",
    "\\end{equation}\n",
    "\n",
    "\\begin{equation}\n",
    "\\theta_j: = \\theta_{j} -\\alpha . (1/m .\\sum_{i=1}^{m}(h(\\theta^{(i)} - y^{(i)}).X_0^{(i)})\n",
    "\\end{equation}"
   ]
  },
  {
   "cell_type": "markdown",
   "metadata": {},
   "source": [
    " "
   ]
  },
  {
   "cell_type": "code",
   "execution_count": 26,
   "metadata": {},
   "outputs": [],
   "source": [
    "def gradient_descent(X, y, theta, learning_rate=0.01, iterations=100):\n",
    "    '''\n",
    "    Parameters:\n",
    "        X     = Matrix of X with added bias units\n",
    "        y     = Vector of Y\n",
    "        theta = Vector of thetas\n",
    "        learning_rate \n",
    "        iterations = no of iterations\n",
    "    \n",
    "    Returns:\n",
    "        np.array - (Returns the final theta vector)\n",
    "    '''\n",
    "    m = len(y)\n",
    "    for it in range(iterations):\n",
    "        \n",
    "        prediction = np.dot(X,theta)\n",
    "        \n",
    "        theta = theta -(1/m)*learning_rate*( X.T.dot(prediction - y))\n",
    "    return theta"
   ]
  },
  {
   "cell_type": "code",
   "execution_count": 27,
   "metadata": {
    "scrolled": false
   },
   "outputs": [
    {
     "name": "stdout",
     "output_type": "stream",
     "text": [
      "Intercept:       1.013,\n",
      "Slope:           0.412\n",
      "Approximated function:  1.013 + 0.412 * X\n"
     ]
    }
   ],
   "source": [
    "lr =0.01\n",
    "n_iter = 100000\n",
    "\n",
    "theta = np.random.randn(2,1)\n",
    "\n",
    "theta = gradient_descent(X_train_with_ones, y_train, theta, lr, n_iter)\n",
    "\n",
    "intercept_gd = np.round(theta[0,0], 3)\n",
    "slope_gd = np.round(theta[1,0], 3)\n",
    "\n",
    "print('Intercept:       {:0.3f},\\nSlope:           {:0.3f}'.format(intercept_gd, slope_gd))\n",
    "print('Approximated function: ', intercept_gd, '+', slope_gd, '* X' )"
   ]
  },
  {
   "cell_type": "code",
   "execution_count": 28,
   "metadata": {
    "scrolled": true
   },
   "outputs": [
    {
     "name": "stdout",
     "output_type": "stream",
     "text": [
      "MSE in Test dataset:  2.8101919897575106e-05\n"
     ]
    },
    {
     "data": {
      "image/png": "[encoded data removed]",
      "text/plain": [
       "<Figure size 432x288 with 1 Axes>"
      ]
     },
     "metadata": {
      "needs_background": "light"
     },
     "output_type": "display_data"
    }
   ],
   "source": [
    "prediction = slope_gd * X_test + intercept_gd\n",
    "\n",
    "print('MSE in Test dataset: ', mse(y_test, prediction))\n",
    "\n",
    "plt.plot(X_train, y_train, 'ro', label ='Original data')\n",
    "plt.plot(X_test, prediction, label ='Fitted line', color='green')\n",
    "plt.title('Implemented gradient descent Result')\n",
    "plt.legend()\n",
    "plt.show()"
   ]
  },
  {
   "cell_type": "markdown",
   "metadata": {},
   "source": [
    " "
   ]
  },
  {
   "cell_type": "markdown",
   "metadata": {},
   "source": [
    " "
   ]
  },
  {
   "cell_type": "markdown",
   "metadata": {},
   "source": [
    " "
   ]
  },
  {
   "cell_type": "code",
   "execution_count": 29,
   "metadata": {},
   "outputs": [],
   "source": [
    "def gradient_descent_with_regularization(X, y, theta, learning_rate=0.01, iterations=100, lamda = 0.1):\n",
    "    '''\n",
    "    Gradient descent for ridge regression\n",
    "    \n",
    "    Parameters:\n",
    "        X     = Matrix of X with added bias units\n",
    "        y     = Vector of Y\n",
    "        theta = Vector of thetas\n",
    "        learning_rate \n",
    "        iterations = no of iterations\n",
    "        lamda = regularization parameter\n",
    "    \n",
    "    Returns:\n",
    "        np.array - (Returns the final theta vector)\n",
    "    \n",
    "    '''\n",
    "    m = len(y)\n",
    "    for it in range(iterations):\n",
    "        \n",
    "        prediction = np.dot(X,theta)\n",
    "\n",
    "        theta = theta -(1/m)*learning_rate*( X.T.dot(prediction - y) + lamda * theta)\n",
    "    return theta"
   ]
  },
  {
   "cell_type": "code",
   "execution_count": 30,
   "metadata": {},
   "outputs": [],
   "source": [
    "lr =0.01\n",
    "n_iter = 100000\n",
    "\n",
    "lambdas = [0.01, 0.1, 1, 10]\n",
    "mse_s = []\n",
    "for i in range(len(lambdas)):\n",
    "    theta = np.random.randn(2,1)\n",
    "\n",
    "    theta = gradient_descent_with_regularization(X_train_with_ones, y_train, theta, lr, n_iter, i)\n",
    "    \n",
    "    prediction = theta[1,0] * X_val + theta[0,0]\n",
    "    \n",
    "    mse_s.append(mse(y_val, prediction ))"
   ]
  },
  {
   "cell_type": "code",
   "execution_count": 31,
   "metadata": {},
   "outputs": [],
   "source": [
    "best_lambda_index = np.argmin(mse_s)"
   ]
  },
  {
   "cell_type": "code",
   "execution_count": 32,
   "metadata": {},
   "outputs": [],
   "source": [
    "best_lambda = lambdas[best_lambda_index]"
   ]
  },
  {
   "cell_type": "code",
   "execution_count": 33,
   "metadata": {
    "scrolled": false
   },
   "outputs": [
    {
     "name": "stdout",
     "output_type": "stream",
     "text": [
      "Intercept:       1.013,\n",
      "Slope:           0.412\n",
      "Approximated function:  1.013 + 0.412 * X\n"
     ]
    }
   ],
   "source": [
    "lr =0.01\n",
    "n_iter = 100000\n",
    "\n",
    "theta = np.random.randn(2,1)\n",
    "\n",
    "theta = gradient_descent_with_regularization(X_train_with_ones, y_train, theta, lr, n_iter, best_lambda)\n",
    "\n",
    "intercept_rgd = np.round(theta[0,0], 3)\n",
    "slope_rgd = np.round(theta[1,0], 3)\n",
    "\n",
    "print('Intercept:       {:0.3f},\\nSlope:           {:0.3f}'.format(intercept_rgd, slope_rgd))\n",
    "print('Approximated function: ', intercept_rgd, '+', slope_rgd, '* X' )"
   ]
  },
  {
   "cell_type": "code",
   "execution_count": 34,
   "metadata": {
    "scrolled": true
   },
   "outputs": [
    {
     "name": "stdout",
     "output_type": "stream",
     "text": [
      "MSE in Test dataset:  2.8101919897575106e-05\n"
     ]
    },
    {
     "data": {
      "image/png": "[encoded data removed]",
      "text/plain": [
       "<Figure size 432x288 with 1 Axes>"
      ]
     },
     "metadata": {
      "needs_background": "light"
     },
     "output_type": "display_data"
    }
   ],
   "source": [
    "prediction = slope_rgd * X_test + intercept_rgd\n",
    "\n",
    "print('MSE in Test dataset: ', mse(y_test, prediction))\n",
    "\n",
    "plt.plot(X_train, y_train, 'ro', label ='Original data')\n",
    "plt.plot(X_test, prediction, label ='Fitted line', color='green')\n",
    "plt.title('Implemented gradient descent with regularization Result')\n",
    "plt.legend()\n",
    "plt.show()"
   ]
  },
  {
   "cell_type": "markdown",
   "metadata": {},
   "source": [
    " "
   ]
  },
  {
   "cell_type": "markdown",
   "metadata": {},
   "source": [
    "# 4. With Tensorflow"
   ]
  },
  {
   "cell_type": "markdown",
   "metadata": {},
   "source": [
    " "
   ]
  },
  {
   "cell_type": "code",
   "execution_count": 35,
   "metadata": {},
   "outputs": [],
   "source": [
    "X = tf.placeholder(\"float\")\n",
    "Y = tf.placeholder(\"float\")"
   ]
  },
  {
   "cell_type": "code",
   "execution_count": 36,
   "metadata": {},
   "outputs": [],
   "source": [
    "W = tf.Variable(np.random.randn(), name = \"W\")\n",
    "b = tf.Variable(np.random.randn(), name = \"b\")"
   ]
  },
  {
   "cell_type": "code",
   "execution_count": 37,
   "metadata": {},
   "outputs": [],
   "source": [
    "learning_rate = 0.01\n",
    "training_epochs = 100"
   ]
  },
  {
   "cell_type": "code",
   "execution_count": 38,
   "metadata": {},
   "outputs": [
    {
     "name": "stderr",
     "output_type": "stream",
     "text": [
      "WARNING: Logging before flag parsing goes to stderr.\n",
      "W0920 00:42:13.097890 19828 deprecation.py:323] From C:\\ProgramData\\Anaconda3\\lib\\site-packages\\tensorflow\\python\\ops\\math_grad.py:1205: add_dispatch_support.<locals>.wrapper (from tensorflow.python.ops.array_ops) is deprecated and will be removed in a future version.\n",
      "Instructions for updating:\n",
      "Use tf.where in 2.0, which has the same broadcast rule as np.where\n"
     ]
    }
   ],
   "source": [
    "y_pred = tf.add(tf.multiply(X, W), b)\n",
    "\n",
    "# Mean Squared Error Cost Function\n",
    "cost = tf.reduce_sum(tf.pow(y_pred-Y, 2)) / (2 * n)\n",
    "\n",
    "# Gradient Descent Optimizer\n",
    "optimizer = tf.train.GradientDescentOptimizer(learning_rate).minimize(cost)\n",
    "\n",
    "init = tf.global_variables_initializer()"
   ]
  },
  {
   "cell_type": "code",
   "execution_count": 39,
   "metadata": {
    "scrolled": true
   },
   "outputs": [
    {
     "name": "stdout",
     "output_type": "stream",
     "text": [
      "Epoch 50 : cost = 0.6385243 W = -0.9886882 b = 1.0415144\n",
      "Epoch 100 : cost = 0.11321184 W = -0.653943 b = 1.4018763\n"
     ]
    }
   ],
   "source": [
    "with tf.Session() as sess: \n",
    "    \n",
    "    sess.run(init)\n",
    "    \n",
    "    for epoch in range(training_epochs):\n",
    "        for (_x, _y) in zip(X_train_with_ones, y_train):\n",
    "            sess.run(optimizer, feed_dict = {X : _x, Y : _y})\n",
    "            \n",
    "        if (epoch + 1) % 50 == 0:\n",
    "            c = sess.run(cost, feed_dict = {X : X_train_with_ones, Y : y_train})\n",
    "            print(\"Epoch\", (epoch + 1), \": cost =\", c, \"W =\", sess.run(W), \"b =\", sess.run(b))\n",
    "\n",
    "    weight = sess.run(W)\n",
    "    bias = sess.run(b)"
   ]
  },
  {
   "cell_type": "code",
   "execution_count": 40,
   "metadata": {},
   "outputs": [
    {
     "name": "stdout",
     "output_type": "stream",
     "text": [
      "Intercept:       1.402,\n",
      "Slope:           -0.654\n",
      "Approximated function:  1.4018763 + -0.653943 * X\n"
     ]
    }
   ],
   "source": [
    "intercept_tf = bias\n",
    "slope_tf = weight\n",
    "\n",
    "print('Intercept:       {:0.3f},\\nSlope:           {:0.3f}'.format(intercept_tf, slope_tf))\n",
    "print('Approximated function: ', intercept_tf, '+', slope_tf, '* X' )"
   ]
  },
  {
   "cell_type": "code",
   "execution_count": 41,
   "metadata": {},
   "outputs": [
    {
     "name": "stdout",
     "output_type": "stream",
     "text": [
      "MSE in Test dataset:  0.11673436175808692\n"
     ]
    },
    {
     "data": {
      "image/png": "[encoded data removed]",
      "text/plain": [
       "<Figure size 432x288 with 1 Axes>"
      ]
     },
     "metadata": {
      "needs_background": "light"
     },
     "output_type": "display_data"
    }
   ],
   "source": [
    "prediction = slope_tf * X_test + intercept_tf\n",
    "\n",
    "print('MSE in Test dataset: ', mse(y_test, prediction))\n",
    "\n",
    "plt.plot(X_train, y_train, 'ro', label ='Original data')\n",
    "plt.plot(X_test, prediction, label ='Fitted line', color='green')\n",
    "plt.title('Linear regression with tensorflow Result')\n",
    "plt.legend()\n",
    "plt.show()"
   ]
  },
  {
   "cell_type": "markdown",
   "metadata": {},
   "source": [
    " "
   ]
  },
  {
   "cell_type": "markdown",
   "metadata": {},
   "source": [
    " "
   ]
  },
  {
   "cell_type": "markdown",
   "metadata": {},
   "source": [
    " "
   ]
  },
  {
   "cell_type": "markdown",
   "metadata": {},
   "source": [
    "##  Compare all solutions with the first degree Taylor approximation of the function $\\sqrt{x+1}$\n",
    "\n",
    "First degree Taylor approximation of the function $\\sqrt{x+1}$ around x=0 is $1 + 1/2 x$"
   ]
  },
  {
   "cell_type": "markdown",
   "metadata": {},
   "source": [
    " "
   ]
  },
  {
   "cell_type": "code",
   "execution_count": 57,
   "metadata": {},
   "outputs": [
    {
     "name": "stdout",
     "output_type": "stream",
     "text": [
      "coefficients with closed form\n",
      "--------------------------------------------------\n",
      "Intercept:       1.010,\n",
      "Slope:           0.414\n",
      "\n",
      "\n",
      "coefficients with ridge regression\n",
      "--------------------------------------------------\n",
      "Intercept:       1.013,\n",
      "Slope:           0.412\n",
      "\n",
      "\n",
      "coefficients with lr\n",
      "--------------------------------------------------\n",
      "Intercept:       1.013,\n",
      "Slope:           0.410\n",
      "\n",
      "\n",
      "coefficients with gradient descent\n",
      "--------------------------------------------------\n",
      "Intercept:       1.013,\n",
      "Slope:           0.412\n",
      "\n",
      "\n",
      "coefficients with regularized gradient descent\n",
      "--------------------------------------------------\n",
      "Intercept:       1.013,\n",
      "Slope:           0.412\n",
      "\n",
      "\n",
      "coefficients with tensorflow\n",
      "--------------------------------------------------\n",
      "Intercept:       1.402,\n",
      "Slope:           -0.654\n",
      "\n",
      "\n"
     ]
    }
   ],
   "source": [
    "print('coefficients with closed form')\n",
    "print('-'*50)\n",
    "print('Intercept:       {:0.3f},\\nSlope:           {:0.3f}'.format(intercept_closed_form, slope_closed_form))\n",
    "print('\\n')\n",
    "\n",
    "print('coefficients with ridge regression')\n",
    "print('-'*50)\n",
    "print('Intercept:       {:0.3f},\\nSlope:           {:0.3f}'.format(intercept_ridge, slope_ridge))\n",
    "print('\\n')\n",
    "\n",
    "print('coefficients with lr')\n",
    "print('-'*50)\n",
    "print('Intercept:       {:0.3f},\\nSlope:           {:0.3f}'.format(intercept_lr, slope_lr))\n",
    "print('\\n')\n",
    "\n",
    "print('coefficients with gradient descent')\n",
    "print('-'*50)\n",
    "print('Intercept:       {:0.3f},\\nSlope:           {:0.3f}'.format(intercept_gd, slope_gd))\n",
    "print('\\n')\n",
    "\n",
    "print('coefficients with regularized gradient descent')\n",
    "print('-'*50)\n",
    "print('Intercept:       {:0.3f},\\nSlope:           {:0.3f}'.format(intercept_rgd, slope_rgd))\n",
    "print('\\n')\n",
    "\n",
    "print('coefficients with tensorflow')\n",
    "print('-'*50)\n",
    "print('Intercept:       {:0.3f},\\nSlope:           {:0.3f}'.format(intercept_tf, slope_tf))\n",
    "print('\\n')"
   ]
  },
  {
   "cell_type": "markdown",
   "metadata": {},
   "source": [
    " "
   ]
  },
  {
   "cell_type": "markdown",
   "metadata": {},
   "source": [
    "from the above printed coefficients values we can say, that closed form (with regularization) gives the best (close to the actual coefficients in taylor series) result among others."
   ]
  },
  {
   "cell_type": "markdown",
   "metadata": {},
   "source": [
    " "
   ]
  },
  {
   "cell_type": "markdown",
   "metadata": {},
   "source": [
    " "
   ]
  },
  {
   "cell_type": "markdown",
   "metadata": {},
   "source": [
    " "
   ]
  },
  {
   "cell_type": "markdown",
   "metadata": {},
   "source": [
    " "
   ]
  },
  {
   "cell_type": "markdown",
   "metadata": {},
   "source": [
    "## Can you implement the polynomial regression using linear regression?"
   ]
  },
  {
   "cell_type": "markdown",
   "metadata": {},
   "source": [
    " "
   ]
  },
  {
   "cell_type": "code",
   "execution_count": 74,
   "metadata": {},
   "outputs": [],
   "source": [
    "poly = PolynomialFeatures(degree = 4)\n",
    "X_train_poly = poly.fit_transform(X_train)"
   ]
  },
  {
   "cell_type": "code",
   "execution_count": 75,
   "metadata": {},
   "outputs": [
    {
     "data": {
      "text/plain": [
       "array([[1.        , 0.52453875, 0.27514091, 0.14432207, 0.07570252],\n",
       "       [1.        , 0.54196234, 0.29372318, 0.1591869 , 0.08627331],\n",
       "       [1.        , 0.93854611, 0.8808688 , 0.82673598, 0.77592984],\n",
       "       ...,\n",
       "       [1.        , 0.70716309, 0.50007963, 0.35363786, 0.25007964],\n",
       "       [1.        , 0.30338642, 0.09204332, 0.02792469, 0.00847197],\n",
       "       [1.        , 0.20287155, 0.04115686, 0.00834956, 0.00169389]])"
      ]
     },
     "execution_count": 75,
     "metadata": {},
     "output_type": "execute_result"
    }
   ],
   "source": [
    "X_train_poly"
   ]
  },
  {
   "cell_type": "code",
   "execution_count": 77,
   "metadata": {
    "scrolled": true
   },
   "outputs": [
    {
     "data": {
      "text/plain": [
       "LinearRegression(copy_X=True, fit_intercept=True, n_jobs=None,\n",
       "         normalize=False)"
      ]
     },
     "execution_count": 77,
     "metadata": {},
     "output_type": "execute_result"
    }
   ],
   "source": [
    "regressor_lr_poly = LR()\n",
    "regressor_lr_poly.fit(X_train_poly, y_train)"
   ]
  },
  {
   "cell_type": "code",
   "execution_count": 86,
   "metadata": {},
   "outputs": [
    {
     "data": {
      "text/plain": [
       "0.49926544891336094"
      ]
     },
     "execution_count": 86,
     "metadata": {},
     "output_type": "execute_result"
    }
   ],
   "source": [
    "regressor_lr_poly.coef_[0,1]"
   ]
  },
  {
   "cell_type": "code",
   "execution_count": 92,
   "metadata": {},
   "outputs": [
    {
     "data": {
      "text/plain": [
       "1.0"
      ]
     },
     "execution_count": 92,
     "metadata": {},
     "output_type": "execute_result"
    }
   ],
   "source": [
    "intercept_lr_poly[0]"
   ]
  },
  {
   "cell_type": "code",
   "execution_count": 101,
   "metadata": {},
   "outputs": [
    {
     "name": "stdout",
     "output_type": "stream",
     "text": [
      "Intercept:       1.000,\n",
      "Slope 1:         0.499,\n",
      "Slope 2:         -0.119,\n",
      "Slope 3:         0.044,\n",
      "Slope 4:         -0.010\n",
      "Approximated function:  1.0 + 0.499 * X +( -0.119 )* X^2 +( 0.044 )* X^3 +( -0.01 )* X^4\n"
     ]
    }
   ],
   "source": [
    "intercept_lr_poly = np.round(regressor_lr_poly.intercept_[0], 3)\n",
    "slope_1_lr_poly = np.round(regressor_lr_poly.coef_[0,1], 3)\n",
    "slope_2_lr_poly = np.round(regressor_lr_poly.coef_[0,2], 3)\n",
    "slope_3_lr_poly = np.round(regressor_lr_poly.coef_[0,3], 3)\n",
    "slope_4_lr_poly = np.round(regressor_lr_poly.coef_[0,4], 3)\n",
    "print('Intercept:       {:0.3f},\\nSlope 1:         {:0.3f},\\nSlope 2:         {:0.3f},\\nSlope 3:         {:0.3f},\\nSlope 4:         {:0.3f}'.format(intercept_lr_poly, slope_1_lr_poly, slope_2_lr_poly, slope_3_lr_poly, slope_4_lr_poly))\n",
    "print('Approximated function: ', intercept_lr_poly, '+', slope_1_lr_poly, '* X', '+(', slope_2_lr_poly, ')* X^2', '+(', slope_3_lr_poly, ')* X^3', '+(', slope_4_lr_poly, ')* X^4' )"
   ]
  },
  {
   "cell_type": "code",
   "execution_count": 103,
   "metadata": {},
   "outputs": [
    {
     "name": "stdout",
     "output_type": "stream",
     "text": [
      "MSE in Test dataset:  3.540155716376639e-11\n"
     ]
    },
    {
     "data": {
      "image/png": "[encoded data removed]",
      "text/plain": [
       "<Figure size 432x288 with 1 Axes>"
      ]
     },
     "metadata": {
      "needs_background": "light"
     },
     "output_type": "display_data"
    }
   ],
   "source": [
    "X_test_poly = poly.fit_transform(X_test)\n",
    "prediction = regressor_lr.predict(X_test_poly)\n",
    "\n",
    "print('MSE in Test dataset: ', mse(y_test, prediction))\n",
    "\n",
    "plt.plot(X_test, y_test, 'ro', label ='Original data')\n",
    "plt.plot(X_test, prediction, label ='Fitted line', color='green')\n",
    "plt.title('Polinomeal Regression Result')\n",
    "plt.legend()\n",
    "plt.show()"
   ]
  },
  {
   "cell_type": "code",
   "execution_count": null,
   "metadata": {},
   "outputs": [],
   "source": []
  },
  {
   "cell_type": "code",
   "execution_count": null,
   "metadata": {},
   "outputs": [],
   "source": []
  },
  {
   "cell_type": "code",
   "execution_count": null,
   "metadata": {},
   "outputs": [],
   "source": []
  },
  {
   "cell_type": "code",
   "execution_count": null,
   "metadata": {},
   "outputs": [],
   "source": []
  }
 ],
 "metadata": {
  "kernelspec": {
   "display_name": "Python 3",
   "language": "python",
   "name": "python3"
  },
  "language_info": {
   "codemirror_mode": {
    "name": "ipython",
    "version": 3
   },
   "file_extension": ".py",
   "mimetype": "text/x-python",
   "name": "python",
   "nbconvert_exporter": "python",
   "pygments_lexer": "ipython3",
   "version": "3.7.3"
  }
 },
 "nbformat": 4,
 "nbformat_minor": 2
}
