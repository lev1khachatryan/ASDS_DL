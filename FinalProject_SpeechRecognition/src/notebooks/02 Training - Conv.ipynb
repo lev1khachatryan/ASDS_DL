{
 "cells": [
  {
   "cell_type": "code",
   "execution_count": 1,
   "metadata": {},
   "outputs": [
    {
     "name": "stderr",
     "output_type": "stream",
     "text": [
      "WARNING: Logging before flag parsing goes to stderr.\n",
      "W0121 21:29:11.943100  2412 deprecation_wrapper.py:119] From ..\\libs\\trainer.py:13: The name tf.logging.set_verbosity is deprecated. Please use tf.compat.v1.logging.set_verbosity instead.\n",
      "\n",
      "W0121 21:29:11.945133  2412 deprecation_wrapper.py:119] From ..\\libs\\trainer.py:13: The name tf.logging.INFO is deprecated. Please use tf.compat.v1.logging.INFO instead.\n",
      "\n"
     ]
    }
   ],
   "source": [
    "import warnings\n",
    "warnings.filterwarnings(\"ignore\")\n",
    "\n",
    "import sys\n",
    "import os\n",
    "import tensorflow as tf\n",
    "\n",
    "# sys.path.append(\"../libs\")\n",
    "sys.path.insert(1, '../')\n",
    "\n",
    "from libs import input_data\n",
    "from libs import models\n",
    "from libs import trainer\n",
    "from libs import freeze"
   ]
  },
  {
   "cell_type": "code",
   "execution_count": 2,
   "metadata": {},
   "outputs": [],
   "source": [
    "flags=tf.app.flags"
   ]
  },
  {
   "cell_type": "code",
   "execution_count": 3,
   "metadata": {},
   "outputs": [],
   "source": [
    "flags=tf.app.flags\n",
    "#Important Directories\n",
    "flags.DEFINE_string('data_dir','..\\\\..\\\\_inputs\\\\raw','Train Data Folder')\n",
    "flags.DEFINE_string('summaries_dir','..\\\\..\\\\summaries','Summaries Folder')\n",
    "flags.DEFINE_string('train_dir','..\\\\..\\\\logs&checkpoint','Directory to write event logs and checkpoint')\n",
    "flags.DEFINE_string('models_dir','..\\\\..\\\\models','Models Folder')\n",
    "#Task Specific Parameters\n",
    "flags.DEFINE_string('wanted_words','yes,no,up,down,left,right,on,off,stop,go','Wanted Words')\n",
    "flags.DEFINE_float('validation_percentage',10,'Validation Percentage')\n",
    "flags.DEFINE_float('testing_percentage',10,'Testing Percentage')\n",
    "flags.DEFINE_integer('sample_rate',16000,'Sample Rate')\n",
    "flags.DEFINE_integer('clip_duration_ms',1000,'Clip Duration in ms')\n",
    "flags.DEFINE_float('window_size_ms',30,'How long each spectogram timeslice is')\n",
    "flags.DEFINE_float('window_stride_ms',10.0,'How far to move in time between frequency windows.')\n",
    "flags.DEFINE_integer('dct_coefficient_count',40,'How many bins to use for the MFCC fingerprint')\n",
    "flags.DEFINE_float('time_shift_ms',100.0,'Range to randomly shift the training audio by in time.')\n",
    "\n",
    "FLAGS=flags.FLAGS"
   ]
  },
  {
   "cell_type": "code",
   "execution_count": 4,
   "metadata": {},
   "outputs": [],
   "source": [
    "model_architecture='conv'\n",
    "start_checkpoint=None\n",
    "logging_interval=1\n",
    "eval_step_interval=1000\n",
    "save_step_interval=1\n",
    "silence_percentage=10.0\n",
    "unknown_percentage=10.0\n",
    "background_frequency=0.8\n",
    "background_volume=0.1\n",
    "learning_rate='0.001,0.0001' #Always seperated by comma, trains with each of the learning rate for the given number of iterations\n",
    "train_steps='1000,1000' #Declare  the training steps for which the learning rates will be used\n",
    "batch_size=100"
   ]
  },
  {
   "cell_type": "code",
   "execution_count": 5,
   "metadata": {},
   "outputs": [],
   "source": [
    "def get_train_data(args):\n",
    "    sess=args\n",
    "    time_shift_samples = int((FLAGS.time_shift_ms * FLAGS.sample_rate) / 1000)\n",
    "    train_fingerprints, train_ground_truth = audio_processor.get_data(\n",
    "        batch_size, 0, model_settings,background_frequency,\n",
    "        background_volume, time_shift_samples, 'training', sess)\n",
    "    return train_fingerprints,train_ground_truth\n",
    "\n",
    "def get_val_data(args):\n",
    "    '''\n",
    "    Input: (sess,offset)\n",
    "    '''\n",
    "    sess,i=args\n",
    "    validation_fingerprints, validation_ground_truth = (\n",
    "            audio_processor.get_data(batch_size, i, model_settings, 0.0,\n",
    "                                     0.0, 0, 'validation', sess))\n",
    "    return validation_fingerprints,validation_ground_truth"
   ]
  },
  {
   "cell_type": "code",
   "execution_count": 6,
   "metadata": {},
   "outputs": [],
   "source": [
    "remaining_args = FLAGS([sys.argv[0]] + [flag for flag in sys.argv if flag.startswith(\"--\")])\n",
    "assert(remaining_args == [sys.argv[0]])"
   ]
  },
  {
   "cell_type": "code",
   "execution_count": 7,
   "metadata": {},
   "outputs": [],
   "source": [
    "train_dir=os.path.join(FLAGS.data_dir,'train','audio')"
   ]
  },
  {
   "cell_type": "code",
   "execution_count": 8,
   "metadata": {},
   "outputs": [],
   "source": [
    "# WORD_LIST = [x[0].rsplit('\\\\', 2)[-1] for x in os.walk(train_dir)]\n",
    "# ','.join(WORD_LIST)"
   ]
  },
  {
   "cell_type": "code",
   "execution_count": 9,
   "metadata": {},
   "outputs": [
    {
     "name": "stdout",
     "output_type": "stream",
     "text": [
      "..\\..\\_inputs\\raw\\train\\audio\\*\\*.wav\n"
     ]
    },
    {
     "name": "stderr",
     "output_type": "stream",
     "text": [
      "W0121 21:29:52.207497  2412 deprecation_wrapper.py:119] From ..\\libs\\input_data.py:305: The name tf.Session is deprecated. Please use tf.compat.v1.Session instead.\n",
      "\n",
      "W0121 21:29:52.219458  2412 deprecation_wrapper.py:119] From ..\\libs\\input_data.py:306: The name tf.placeholder is deprecated. Please use tf.compat.v1.placeholder instead.\n",
      "\n"
     ]
    },
    {
     "name": "stdout",
     "output_type": "stream",
     "text": [
      "..\\..\\_inputs\\raw\\train\\audio\\_background_noise_\\doing_the_dishes.wav\n",
      "..\\..\\_inputs\\raw\\train\\audio\\_background_noise_\\dude_miaowing.wav\n",
      "..\\..\\_inputs\\raw\\train\\audio\\_background_noise_\\exercise_bike.wav\n",
      "..\\..\\_inputs\\raw\\train\\audio\\_background_noise_\\pink_noise.wav\n",
      "..\\..\\_inputs\\raw\\train\\audio\\_background_noise_\\running_tap.wav\n",
      "..\\..\\_inputs\\raw\\train\\audio\\_background_noise_\\white_noise.wav\n",
      "Tensor(\"AudioSpectrogram:0\", shape=(?, 98, 257), dtype=float32)\n"
     ]
    }
   ],
   "source": [
    "model_settings = models.prepare_model_settings(\n",
    "      len(input_data.prepare_words_list(FLAGS.wanted_words.split(','))),\n",
    "      FLAGS.sample_rate, FLAGS.clip_duration_ms, FLAGS.window_size_ms,\n",
    "      FLAGS.window_stride_ms, FLAGS.dct_coefficient_count)\n",
    "audio_processor = input_data.AudioProcessor(\n",
    "      train_dir, silence_percentage, unknown_percentage,\n",
    "      FLAGS.wanted_words.split(','), FLAGS.validation_percentage,\n",
    "      FLAGS.testing_percentage, model_settings)"
   ]
  },
  {
   "cell_type": "code",
   "execution_count": 10,
   "metadata": {},
   "outputs": [],
   "source": [
    "def main(_):\n",
    "    sess=tf.InteractiveSession()\n",
    "    # Placeholders\n",
    "    fingerprint_size = model_settings['fingerprint_size']\n",
    "    label_count = model_settings['label_count']\n",
    "    fingerprint_input = tf.placeholder(\n",
    "      tf.float32, [None, fingerprint_size], name='fingerprint_input')\n",
    "    ground_truth_input = tf.placeholder(\n",
    "      tf.float32, [None, label_count], name='groundtruth_input')\n",
    "    set_size = audio_processor.set_size('validation')\n",
    "    label_count = model_settings['label_count']\n",
    "    # Create Model\n",
    "    \n",
    "    logits, dropout_prob = models.create_model(\n",
    "      fingerprint_input,\n",
    "      model_settings,\n",
    "      model_architecture,\n",
    "      is_training=True)\n",
    "    #Start Training\n",
    "    extra_args=(dropout_prob,label_count,batch_size,set_size)\n",
    "    trainer.train(sess,logits,fingerprint_input,ground_truth_input,get_train_data,\n",
    "                  get_val_data,train_steps,learning_rate,eval_step_interval, logging_interval=logging_interval,\n",
    "                  start_checkpoint=start_checkpoint,checkpoint_interval=save_step_interval,\n",
    "                  model_name=model_architecture,train_dir=FLAGS.train_dir,\n",
    "                  summaries_dir=FLAGS.summaries_dir,args=extra_args)"
   ]
  },
  {
   "cell_type": "code",
   "execution_count": 11,
   "metadata": {
    "scrolled": true
   },
   "outputs": [
    {
     "name": "stderr",
     "output_type": "stream",
     "text": [
      "W0121 21:30:31.018866  2412 deprecation_wrapper.py:119] From ..\\libs\\models.py:325: The name tf.truncated_normal is deprecated. Please use tf.random.truncated_normal instead.\n",
      "\n",
      "W0121 21:30:31.050812  2412 deprecation.py:506] From ..\\libs\\models.py:333: calling dropout (from tensorflow.python.ops.nn_ops) with keep_prob is deprecated and will be removed in a future version.\n",
      "Instructions for updating:\n",
      "Please use `rate` instead of `keep_prob`. Rate should be set to `rate = 1 - keep_prob`.\n",
      "W0121 21:30:31.059757  2412 deprecation_wrapper.py:119] From ..\\libs\\models.py:336: The name tf.nn.max_pool is deprecated. Please use tf.nn.max_pool2d instead.\n",
      "\n",
      "W0121 21:30:31.091703  2412 deprecation.py:323] From ..\\libs\\trainer.py:56: softmax_cross_entropy_with_logits (from tensorflow.python.ops.nn_ops) is deprecated and will be removed in a future version.\n",
      "Instructions for updating:\n",
      "\n",
      "Future major versions of TensorFlow will allow gradients to flow\n",
      "into the labels input on backprop by default.\n",
      "\n",
      "See `tf.nn.softmax_cross_entropy_with_logits_v2`.\n",
      "\n",
      "W0121 21:30:31.140573  2412 deprecation_wrapper.py:119] From ..\\libs\\trainer.py:57: The name tf.summary.scalar is deprecated. Please use tf.compat.v1.summary.scalar instead.\n",
      "\n",
      "W0121 21:30:31.142535  2412 deprecation_wrapper.py:119] From ..\\libs\\trainer.py:62: The name tf.train.AdamOptimizer is deprecated. Please use tf.compat.v1.train.AdamOptimizer instead.\n",
      "\n",
      "W0121 21:30:31.301913  2412 deprecation_wrapper.py:119] From ..\\libs\\trainer.py:67: The name tf.confusion_matrix is deprecated. Please use tf.math.confusion_matrix instead.\n",
      "\n",
      "W0121 21:30:31.356766  2412 deprecation.py:323] From ..\\libs\\trainer.py:70: get_or_create_global_step (from tensorflow.contrib.framework.python.ops.variables) is deprecated and will be removed in a future version.\n",
      "Instructions for updating:\n",
      "Please switch to tf.train.get_or_create_global_step\n",
      "W0121 21:30:31.361756  2412 deprecation_wrapper.py:119] From ..\\libs\\trainer.py:71: The name tf.assign is deprecated. Please use tf.compat.v1.assign instead.\n",
      "\n",
      "W0121 21:30:31.364713  2412 deprecation_wrapper.py:119] From ..\\libs\\trainer.py:72: The name tf.train.Saver is deprecated. Please use tf.compat.v1.train.Saver instead.\n",
      "\n",
      "W0121 21:30:31.387662  2412 deprecation_wrapper.py:119] From ..\\libs\\trainer.py:73: The name tf.summary.merge_all is deprecated. Please use tf.compat.v1.summary.merge_all instead.\n",
      "\n",
      "W0121 21:30:31.389645  2412 deprecation_wrapper.py:119] From ..\\libs\\trainer.py:75: The name tf.summary.FileWriter is deprecated. Please use tf.compat.v1.summary.FileWriter instead.\n",
      "\n",
      "W0121 21:30:31.535113  2412 deprecation_wrapper.py:119] From ..\\libs\\trainer.py:87: The name tf.logging.info is deprecated. Please use tf.compat.v1.logging.info instead.\n",
      "\n",
      "I0121 21:30:31.536112  2412 trainer.py:87] Training from step: 1 \n",
      "W0121 21:30:31.536112  2412 deprecation_wrapper.py:119] From ..\\libs\\trainer.py:91: The name tf.train.write_graph is deprecated. Please use tf.io.write_graph instead.\n",
      "\n",
      "I0121 21:30:34.875995  2412 trainer.py:125] Step #1: rate 0.001000, accuracy 8.0%, cross entropy 2.540250\n",
      "I0121 21:30:34.877990  2412 trainer.py:171] Saving to \"..\\..\\logs&checkpoint\\conv\\ckpt-1\"\n",
      "I0121 21:30:38.058515  2412 trainer.py:125] Step #2: rate 0.001000, accuracy 8.0%, cross entropy 4.017315\n",
      "I0121 21:30:38.059513  2412 trainer.py:171] Saving to \"..\\..\\logs&checkpoint\\conv\\ckpt-2\"\n",
      "I0121 21:30:41.483723  2412 trainer.py:125] Step #3: rate 0.001000, accuracy 10.0%, cross entropy 2.768041\n",
      "I0121 21:30:41.484722  2412 trainer.py:171] Saving to \"..\\..\\logs&checkpoint\\conv\\ckpt-3\"\n",
      "I0121 21:30:44.483776  2412 trainer.py:125] Step #4: rate 0.001000, accuracy 13.0%, cross entropy 2.453198\n",
      "I0121 21:30:44.485772  2412 trainer.py:171] Saving to \"..\\..\\logs&checkpoint\\conv\\ckpt-4\"\n",
      "I0121 21:30:47.514986  2412 trainer.py:125] Step #5: rate 0.001000, accuracy 13.0%, cross entropy 2.495239\n",
      "I0121 21:30:47.515982  2412 trainer.py:171] Saving to \"..\\..\\logs&checkpoint\\conv\\ckpt-5\"\n",
      "I0121 21:30:50.515664  2412 trainer.py:125] Step #6: rate 0.001000, accuracy 16.0%, cross entropy 2.398252\n",
      "I0121 21:30:50.516662  2412 trainer.py:171] Saving to \"..\\..\\logs&checkpoint\\conv\\ckpt-6\"\n",
      "W0121 21:30:50.602438  2412 deprecation.py:323] From C:\\ProgramData\\Anaconda3\\lib\\site-packages\\tensorflow\\python\\training\\saver.py:960: remove_checkpoint (from tensorflow.python.training.checkpoint_management) is deprecated and will be removed in a future version.\n",
      "Instructions for updating:\n",
      "Use standard file APIs to delete files with this prefix.\n",
      "I0121 21:30:53.550011  2412 trainer.py:125] Step #7: rate 0.001000, accuracy 15.0%, cross entropy 2.455876\n",
      "I0121 21:30:53.551007  2412 trainer.py:171] Saving to \"..\\..\\logs&checkpoint\\conv\\ckpt-7\"\n",
      "I0121 21:30:56.563100  2412 trainer.py:125] Step #8: rate 0.001000, accuracy 16.0%, cross entropy 2.434364\n",
      "I0121 21:30:56.564097  2412 trainer.py:171] Saving to \"..\\..\\logs&checkpoint\\conv\\ckpt-8\"\n",
      "I0121 21:30:59.616855  2412 trainer.py:125] Step #9: rate 0.001000, accuracy 12.0%, cross entropy 2.361205\n",
      "I0121 21:30:59.617852  2412 trainer.py:171] Saving to \"..\\..\\logs&checkpoint\\conv\\ckpt-9\"\n",
      "I0121 21:31:02.963524  2412 trainer.py:125] Step #10: rate 0.001000, accuracy 15.0%, cross entropy 2.408528\n",
      "I0121 21:31:02.964521  2412 trainer.py:171] Saving to \"..\\..\\logs&checkpoint\\conv\\ckpt-10\"\n",
      "I0121 21:31:06.180517  2412 trainer.py:125] Step #11: rate 0.001000, accuracy 11.0%, cross entropy 2.461740\n",
      "I0121 21:31:06.181515  2412 trainer.py:171] Saving to \"..\\..\\logs&checkpoint\\conv\\ckpt-11\"\n",
      "I0121 21:31:09.200549  2412 trainer.py:125] Step #12: rate 0.001000, accuracy 17.0%, cross entropy 2.365990\n",
      "I0121 21:31:09.201546  2412 trainer.py:171] Saving to \"..\\..\\logs&checkpoint\\conv\\ckpt-12\"\n",
      "I0121 21:31:12.178661  2412 trainer.py:125] Step #13: rate 0.001000, accuracy 19.0%, cross entropy 2.286380\n",
      "I0121 21:31:12.179658  2412 trainer.py:171] Saving to \"..\\..\\logs&checkpoint\\conv\\ckpt-13\"\n",
      "I0121 21:31:15.348489  2412 trainer.py:125] Step #14: rate 0.001000, accuracy 19.0%, cross entropy 2.252305\n",
      "I0121 21:31:15.349486  2412 trainer.py:171] Saving to \"..\\..\\logs&checkpoint\\conv\\ckpt-14\"\n",
      "I0121 21:31:18.489962  2412 trainer.py:125] Step #15: rate 0.001000, accuracy 13.0%, cross entropy 2.292848\n",
      "I0121 21:31:18.490959  2412 trainer.py:171] Saving to \"..\\..\\logs&checkpoint\\conv\\ckpt-15\"\n",
      "I0121 21:31:21.534003  2412 trainer.py:125] Step #16: rate 0.001000, accuracy 22.0%, cross entropy 2.205396\n",
      "I0121 21:31:21.535001  2412 trainer.py:171] Saving to \"..\\..\\logs&checkpoint\\conv\\ckpt-16\"\n",
      "I0121 21:31:24.488418  2412 trainer.py:125] Step #17: rate 0.001000, accuracy 15.0%, cross entropy 2.405471\n",
      "I0121 21:31:24.489416  2412 trainer.py:171] Saving to \"..\\..\\logs&checkpoint\\conv\\ckpt-17\"\n",
      "I0121 21:31:27.587962  2412 trainer.py:125] Step #18: rate 0.001000, accuracy 23.0%, cross entropy 2.249410\n",
      "I0121 21:31:27.588960  2412 trainer.py:171] Saving to \"..\\..\\logs&checkpoint\\conv\\ckpt-18\"\n",
      "I0121 21:31:30.590518  2412 trainer.py:125] Step #19: rate 0.001000, accuracy 18.0%, cross entropy 2.276732\n",
      "I0121 21:31:30.591514  2412 trainer.py:171] Saving to \"..\\..\\logs&checkpoint\\conv\\ckpt-19\"\n",
      "I0121 21:31:33.577817  2412 trainer.py:125] Step #20: rate 0.001000, accuracy 18.0%, cross entropy 2.283939\n",
      "I0121 21:31:33.578815  2412 trainer.py:171] Saving to \"..\\..\\logs&checkpoint\\conv\\ckpt-20\"\n",
      "I0121 21:31:36.649998  2412 trainer.py:125] Step #21: rate 0.001000, accuracy 19.0%, cross entropy 2.161568\n",
      "I0121 21:31:36.650995  2412 trainer.py:171] Saving to \"..\\..\\logs&checkpoint\\conv\\ckpt-21\"\n",
      "I0121 21:31:39.975581  2412 trainer.py:125] Step #22: rate 0.001000, accuracy 18.0%, cross entropy 2.169568\n",
      "I0121 21:31:39.976580  2412 trainer.py:171] Saving to \"..\\..\\logs&checkpoint\\conv\\ckpt-22\"\n",
      "I0121 21:31:43.186634  2412 trainer.py:125] Step #23: rate 0.001000, accuracy 25.0%, cross entropy 2.186365\n",
      "I0121 21:31:43.187630  2412 trainer.py:171] Saving to \"..\\..\\logs&checkpoint\\conv\\ckpt-23\"\n",
      "I0121 21:31:46.112578  2412 trainer.py:125] Step #24: rate 0.001000, accuracy 26.0%, cross entropy 2.195836\n",
      "I0121 21:31:46.112578  2412 trainer.py:171] Saving to \"..\\..\\logs&checkpoint\\conv\\ckpt-24\"\n",
      "I0121 21:31:49.177516  2412 trainer.py:125] Step #25: rate 0.001000, accuracy 19.0%, cross entropy 2.297606\n",
      "I0121 21:31:49.178508  2412 trainer.py:171] Saving to \"..\\..\\logs&checkpoint\\conv\\ckpt-25\"\n"
     ]
    },
    {
     "name": "stderr",
     "output_type": "stream",
     "text": [
      "I0121 21:31:52.279213  2412 trainer.py:125] Step #26: rate 0.001000, accuracy 19.0%, cross entropy 2.220454\n",
      "I0121 21:31:52.280214  2412 trainer.py:171] Saving to \"..\\..\\logs&checkpoint\\conv\\ckpt-26\"\n",
      "I0121 21:31:55.416822  2412 trainer.py:125] Step #27: rate 0.001000, accuracy 25.0%, cross entropy 2.125420\n",
      "I0121 21:31:55.417819  2412 trainer.py:171] Saving to \"..\\..\\logs&checkpoint\\conv\\ckpt-27\"\n",
      "I0121 21:31:58.495738  2412 trainer.py:125] Step #28: rate 0.001000, accuracy 27.0%, cross entropy 2.113234\n",
      "I0121 21:31:58.496736  2412 trainer.py:171] Saving to \"..\\..\\logs&checkpoint\\conv\\ckpt-28\"\n",
      "I0121 21:32:01.499802  2412 trainer.py:125] Step #29: rate 0.001000, accuracy 25.0%, cross entropy 2.179022\n",
      "I0121 21:32:01.500799  2412 trainer.py:171] Saving to \"..\\..\\logs&checkpoint\\conv\\ckpt-29\"\n",
      "I0121 21:32:04.571171  2412 trainer.py:125] Step #30: rate 0.001000, accuracy 29.0%, cross entropy 2.082613\n",
      "I0121 21:32:04.572169  2412 trainer.py:171] Saving to \"..\\..\\logs&checkpoint\\conv\\ckpt-30\"\n",
      "I0121 21:32:08.041418  2412 trainer.py:125] Step #31: rate 0.001000, accuracy 30.0%, cross entropy 2.033244\n",
      "I0121 21:32:08.043411  2412 trainer.py:171] Saving to \"..\\..\\logs&checkpoint\\conv\\ckpt-31\"\n",
      "I0121 21:32:11.106483  2412 trainer.py:125] Step #32: rate 0.001000, accuracy 29.0%, cross entropy 2.102256\n",
      "I0121 21:32:11.106483  2412 trainer.py:171] Saving to \"..\\..\\logs&checkpoint\\conv\\ckpt-32\"\n",
      "I0121 21:32:14.225709  2412 trainer.py:125] Step #33: rate 0.001000, accuracy 21.0%, cross entropy 2.154850\n",
      "I0121 21:32:14.226704  2412 trainer.py:171] Saving to \"..\\..\\logs&checkpoint\\conv\\ckpt-33\"\n",
      "I0121 21:32:17.343281  2412 trainer.py:125] Step #34: rate 0.001000, accuracy 25.0%, cross entropy 2.034473\n",
      "I0121 21:32:17.344280  2412 trainer.py:171] Saving to \"..\\..\\logs&checkpoint\\conv\\ckpt-34\"\n",
      "I0121 21:32:20.411833  2412 trainer.py:125] Step #35: rate 0.001000, accuracy 26.0%, cross entropy 2.005456\n",
      "I0121 21:32:20.412831  2412 trainer.py:171] Saving to \"..\\..\\logs&checkpoint\\conv\\ckpt-35\"\n",
      "I0121 21:32:23.702875  2412 trainer.py:125] Step #36: rate 0.001000, accuracy 30.0%, cross entropy 2.086523\n",
      "I0121 21:32:23.703873  2412 trainer.py:171] Saving to \"..\\..\\logs&checkpoint\\conv\\ckpt-36\"\n",
      "I0121 21:32:27.286035  2412 trainer.py:125] Step #37: rate 0.001000, accuracy 26.0%, cross entropy 2.033887\n",
      "I0121 21:32:27.287033  2412 trainer.py:171] Saving to \"..\\..\\logs&checkpoint\\conv\\ckpt-37\"\n",
      "I0121 21:32:30.356212  2412 trainer.py:125] Step #38: rate 0.001000, accuracy 30.0%, cross entropy 2.012572\n",
      "I0121 21:32:30.357154  2412 trainer.py:171] Saving to \"..\\..\\logs&checkpoint\\conv\\ckpt-38\"\n",
      "I0121 21:32:33.379028  2412 trainer.py:125] Step #39: rate 0.001000, accuracy 28.0%, cross entropy 1.934918\n",
      "I0121 21:32:33.389002  2412 trainer.py:171] Saving to \"..\\..\\logs&checkpoint\\conv\\ckpt-39\"\n",
      "I0121 21:32:36.207884  2412 trainer.py:125] Step #40: rate 0.001000, accuracy 34.0%, cross entropy 1.870786\n",
      "I0121 21:32:36.207884  2412 trainer.py:171] Saving to \"..\\..\\logs&checkpoint\\conv\\ckpt-40\"\n",
      "I0121 21:32:39.346090  2412 trainer.py:125] Step #41: rate 0.001000, accuracy 30.0%, cross entropy 1.968952\n",
      "I0121 21:32:39.347088  2412 trainer.py:171] Saving to \"..\\..\\logs&checkpoint\\conv\\ckpt-41\"\n",
      "I0121 21:32:43.387278  2412 trainer.py:125] Step #42: rate 0.001000, accuracy 26.0%, cross entropy 2.005782\n",
      "I0121 21:32:43.389274  2412 trainer.py:171] Saving to \"..\\..\\logs&checkpoint\\conv\\ckpt-42\"\n",
      "I0121 21:32:47.278764  2412 trainer.py:125] Step #43: rate 0.001000, accuracy 36.0%, cross entropy 1.785202\n",
      "I0121 21:32:47.279761  2412 trainer.py:171] Saving to \"..\\..\\logs&checkpoint\\conv\\ckpt-43\"\n",
      "I0121 21:32:50.868221  2412 trainer.py:125] Step #44: rate 0.001000, accuracy 30.0%, cross entropy 1.932057\n",
      "I0121 21:32:50.870216  2412 trainer.py:171] Saving to \"..\\..\\logs&checkpoint\\conv\\ckpt-44\"\n",
      "I0121 21:32:53.759070  2412 trainer.py:125] Step #45: rate 0.001000, accuracy 28.0%, cross entropy 1.951861\n",
      "I0121 21:32:53.760067  2412 trainer.py:171] Saving to \"..\\..\\logs&checkpoint\\conv\\ckpt-45\"\n",
      "I0121 21:32:56.584801  2412 trainer.py:125] Step #46: rate 0.001000, accuracy 32.0%, cross entropy 1.878486\n",
      "I0121 21:32:56.585798  2412 trainer.py:171] Saving to \"..\\..\\logs&checkpoint\\conv\\ckpt-46\"\n",
      "I0121 21:32:59.442623  2412 trainer.py:125] Step #47: rate 0.001000, accuracy 38.0%, cross entropy 1.722078\n",
      "I0121 21:32:59.443528  2412 trainer.py:171] Saving to \"..\\..\\logs&checkpoint\\conv\\ckpt-47\"\n",
      "I0121 21:33:02.339283  2412 trainer.py:125] Step #48: rate 0.001000, accuracy 31.0%, cross entropy 1.963011\n",
      "I0121 21:33:02.339283  2412 trainer.py:171] Saving to \"..\\..\\logs&checkpoint\\conv\\ckpt-48\"\n",
      "I0121 21:33:05.179447  2412 trainer.py:125] Step #49: rate 0.001000, accuracy 34.0%, cross entropy 1.874634\n",
      "I0121 21:33:05.181442  2412 trainer.py:171] Saving to \"..\\..\\logs&checkpoint\\conv\\ckpt-49\"\n",
      "I0121 21:33:08.453963  2412 trainer.py:125] Step #50: rate 0.001000, accuracy 26.0%, cross entropy 2.045245\n",
      "I0121 21:33:08.455959  2412 trainer.py:171] Saving to \"..\\..\\logs&checkpoint\\conv\\ckpt-50\"\n",
      "I0121 21:33:11.332497  2412 trainer.py:125] Step #51: rate 0.001000, accuracy 29.0%, cross entropy 1.953011\n",
      "I0121 21:33:11.333494  2412 trainer.py:171] Saving to \"..\\..\\logs&checkpoint\\conv\\ckpt-51\"\n",
      "I0121 21:33:14.212983  2412 trainer.py:125] Step #52: rate 0.001000, accuracy 38.0%, cross entropy 1.870109\n",
      "I0121 21:33:14.213982  2412 trainer.py:171] Saving to \"..\\..\\logs&checkpoint\\conv\\ckpt-52\"\n",
      "I0121 21:33:17.317693  2412 trainer.py:125] Step #53: rate 0.001000, accuracy 29.0%, cross entropy 1.983347\n",
      "I0121 21:33:17.318690  2412 trainer.py:171] Saving to \"..\\..\\logs&checkpoint\\conv\\ckpt-53\"\n",
      "I0121 21:33:20.604425  2412 trainer.py:125] Step #54: rate 0.001000, accuracy 34.0%, cross entropy 1.770788\n",
      "I0121 21:33:20.605424  2412 trainer.py:171] Saving to \"..\\..\\logs&checkpoint\\conv\\ckpt-54\"\n",
      "I0121 21:33:23.565973  2412 trainer.py:125] Step #55: rate 0.001000, accuracy 42.0%, cross entropy 1.730085\n",
      "I0121 21:33:23.566917  2412 trainer.py:171] Saving to \"..\\..\\logs&checkpoint\\conv\\ckpt-55\"\n",
      "I0121 21:33:26.559479  2412 trainer.py:125] Step #56: rate 0.001000, accuracy 38.0%, cross entropy 1.699419\n",
      "I0121 21:33:26.560418  2412 trainer.py:171] Saving to \"..\\..\\logs&checkpoint\\conv\\ckpt-56\"\n",
      "I0121 21:33:29.832755  2412 trainer.py:125] Step #57: rate 0.001000, accuracy 44.0%, cross entropy 1.685358\n",
      "I0121 21:33:29.833715  2412 trainer.py:171] Saving to \"..\\..\\logs&checkpoint\\conv\\ckpt-57\"\n"
     ]
    },
    {
     "ename": "KeyboardInterrupt",
     "evalue": "",
     "output_type": "error",
     "traceback": [
      "\u001b[1;31m---------------------------------------------------------------------------\u001b[0m",
      "\u001b[1;31mKeyboardInterrupt\u001b[0m                         Traceback (most recent call last)",
      "\u001b[1;32m<ipython-input-11-4970b337138d>\u001b[0m in \u001b[0;36m<module>\u001b[1;34m\u001b[0m\n\u001b[1;32m----> 1\u001b[1;33m \u001b[0mtf\u001b[0m\u001b[1;33m.\u001b[0m\u001b[0mapp\u001b[0m\u001b[1;33m.\u001b[0m\u001b[0mrun\u001b[0m\u001b[1;33m(\u001b[0m\u001b[0mmain\u001b[0m\u001b[1;33m=\u001b[0m\u001b[0mmain\u001b[0m\u001b[1;33m)\u001b[0m\u001b[1;33m\u001b[0m\u001b[1;33m\u001b[0m\u001b[0m\n\u001b[0m",
      "\u001b[1;32mC:\\ProgramData\\Anaconda3\\lib\\site-packages\\tensorflow\\python\\platform\\app.py\u001b[0m in \u001b[0;36mrun\u001b[1;34m(main, argv)\u001b[0m\n\u001b[0;32m     38\u001b[0m   \u001b[0mmain\u001b[0m \u001b[1;33m=\u001b[0m \u001b[0mmain\u001b[0m \u001b[1;32mor\u001b[0m \u001b[0m_sys\u001b[0m\u001b[1;33m.\u001b[0m\u001b[0mmodules\u001b[0m\u001b[1;33m[\u001b[0m\u001b[1;34m'__main__'\u001b[0m\u001b[1;33m]\u001b[0m\u001b[1;33m.\u001b[0m\u001b[0mmain\u001b[0m\u001b[1;33m\u001b[0m\u001b[1;33m\u001b[0m\u001b[0m\n\u001b[0;32m     39\u001b[0m \u001b[1;33m\u001b[0m\u001b[0m\n\u001b[1;32m---> 40\u001b[1;33m   \u001b[0m_run\u001b[0m\u001b[1;33m(\u001b[0m\u001b[0mmain\u001b[0m\u001b[1;33m=\u001b[0m\u001b[0mmain\u001b[0m\u001b[1;33m,\u001b[0m \u001b[0margv\u001b[0m\u001b[1;33m=\u001b[0m\u001b[0margv\u001b[0m\u001b[1;33m,\u001b[0m \u001b[0mflags_parser\u001b[0m\u001b[1;33m=\u001b[0m\u001b[0m_parse_flags_tolerate_undef\u001b[0m\u001b[1;33m)\u001b[0m\u001b[1;33m\u001b[0m\u001b[1;33m\u001b[0m\u001b[0m\n\u001b[0m",
      "\u001b[1;32mC:\\ProgramData\\Anaconda3\\lib\\site-packages\\absl\\app.py\u001b[0m in \u001b[0;36mrun\u001b[1;34m(main, argv, flags_parser)\u001b[0m\n\u001b[0;32m    298\u001b[0m       \u001b[0mcallback\u001b[0m\u001b[1;33m(\u001b[0m\u001b[1;33m)\u001b[0m\u001b[1;33m\u001b[0m\u001b[1;33m\u001b[0m\u001b[0m\n\u001b[0;32m    299\u001b[0m     \u001b[1;32mtry\u001b[0m\u001b[1;33m:\u001b[0m\u001b[1;33m\u001b[0m\u001b[1;33m\u001b[0m\u001b[0m\n\u001b[1;32m--> 300\u001b[1;33m       \u001b[0m_run_main\u001b[0m\u001b[1;33m(\u001b[0m\u001b[0mmain\u001b[0m\u001b[1;33m,\u001b[0m \u001b[0margs\u001b[0m\u001b[1;33m)\u001b[0m\u001b[1;33m\u001b[0m\u001b[1;33m\u001b[0m\u001b[0m\n\u001b[0m\u001b[0;32m    301\u001b[0m     \u001b[1;32mexcept\u001b[0m \u001b[0mUsageError\u001b[0m \u001b[1;32mas\u001b[0m \u001b[0merror\u001b[0m\u001b[1;33m:\u001b[0m\u001b[1;33m\u001b[0m\u001b[1;33m\u001b[0m\u001b[0m\n\u001b[0;32m    302\u001b[0m       \u001b[0musage\u001b[0m\u001b[1;33m(\u001b[0m\u001b[0mshorthelp\u001b[0m\u001b[1;33m=\u001b[0m\u001b[1;32mTrue\u001b[0m\u001b[1;33m,\u001b[0m \u001b[0mdetailed_error\u001b[0m\u001b[1;33m=\u001b[0m\u001b[0merror\u001b[0m\u001b[1;33m,\u001b[0m \u001b[0mexitcode\u001b[0m\u001b[1;33m=\u001b[0m\u001b[0merror\u001b[0m\u001b[1;33m.\u001b[0m\u001b[0mexitcode\u001b[0m\u001b[1;33m)\u001b[0m\u001b[1;33m\u001b[0m\u001b[1;33m\u001b[0m\u001b[0m\n",
      "\u001b[1;32mC:\\ProgramData\\Anaconda3\\lib\\site-packages\\absl\\app.py\u001b[0m in \u001b[0;36m_run_main\u001b[1;34m(main, argv)\u001b[0m\n\u001b[0;32m    249\u001b[0m     \u001b[0msys\u001b[0m\u001b[1;33m.\u001b[0m\u001b[0mexit\u001b[0m\u001b[1;33m(\u001b[0m\u001b[0mretval\u001b[0m\u001b[1;33m)\u001b[0m\u001b[1;33m\u001b[0m\u001b[1;33m\u001b[0m\u001b[0m\n\u001b[0;32m    250\u001b[0m   \u001b[1;32melse\u001b[0m\u001b[1;33m:\u001b[0m\u001b[1;33m\u001b[0m\u001b[1;33m\u001b[0m\u001b[0m\n\u001b[1;32m--> 251\u001b[1;33m     \u001b[0msys\u001b[0m\u001b[1;33m.\u001b[0m\u001b[0mexit\u001b[0m\u001b[1;33m(\u001b[0m\u001b[0mmain\u001b[0m\u001b[1;33m(\u001b[0m\u001b[0margv\u001b[0m\u001b[1;33m)\u001b[0m\u001b[1;33m)\u001b[0m\u001b[1;33m\u001b[0m\u001b[1;33m\u001b[0m\u001b[0m\n\u001b[0m\u001b[0;32m    252\u001b[0m \u001b[1;33m\u001b[0m\u001b[0m\n\u001b[0;32m    253\u001b[0m \u001b[1;33m\u001b[0m\u001b[0m\n",
      "\u001b[1;32m<ipython-input-10-6d04f5ae9272>\u001b[0m in \u001b[0;36mmain\u001b[1;34m(_)\u001b[0m\n\u001b[0;32m     23\u001b[0m                   \u001b[0mstart_checkpoint\u001b[0m\u001b[1;33m=\u001b[0m\u001b[0mstart_checkpoint\u001b[0m\u001b[1;33m,\u001b[0m\u001b[0mcheckpoint_interval\u001b[0m\u001b[1;33m=\u001b[0m\u001b[0msave_step_interval\u001b[0m\u001b[1;33m,\u001b[0m\u001b[1;33m\u001b[0m\u001b[1;33m\u001b[0m\u001b[0m\n\u001b[0;32m     24\u001b[0m                   \u001b[0mmodel_name\u001b[0m\u001b[1;33m=\u001b[0m\u001b[0mmodel_architecture\u001b[0m\u001b[1;33m,\u001b[0m\u001b[0mtrain_dir\u001b[0m\u001b[1;33m=\u001b[0m\u001b[0mFLAGS\u001b[0m\u001b[1;33m.\u001b[0m\u001b[0mtrain_dir\u001b[0m\u001b[1;33m,\u001b[0m\u001b[1;33m\u001b[0m\u001b[1;33m\u001b[0m\u001b[0m\n\u001b[1;32m---> 25\u001b[1;33m                   summaries_dir=FLAGS.summaries_dir,args=extra_args)\n\u001b[0m",
      "\u001b[1;32mC:\\_Files\\MyProjects\\ASDS_3\\ASDS_DL\\FinalProject_SpeechRecognition\\src\\libs\\trainer.py\u001b[0m in \u001b[0;36mtrain\u001b[1;34m(sess, logits, fingerprint_input, ground_truth_input, get_train_data, get_val_data, training_steps, learning_rate, eval_step_interval, logging_interval, start_checkpoint, checkpoint_interval, model_name, train_dir, summaries_dir, dropout, args)\u001b[0m\n\u001b[0;32m    116\u001b[0m                 \u001b[0mmerged_summaries\u001b[0m\u001b[1;33m,\u001b[0m \u001b[0mevaluation_step\u001b[0m\u001b[1;33m,\u001b[0m \u001b[0mcross_entropy_mean\u001b[0m\u001b[1;33m,\u001b[0m \u001b[0mtrain_step\u001b[0m\u001b[1;33m,\u001b[0m\u001b[1;33m\u001b[0m\u001b[1;33m\u001b[0m\u001b[0m\n\u001b[0;32m    117\u001b[0m                 \u001b[0mincrement_global_step\u001b[0m\u001b[1;33m\u001b[0m\u001b[1;33m\u001b[0m\u001b[0m\n\u001b[1;32m--> 118\u001b[1;33m             ],feed_dict\n\u001b[0m\u001b[0;32m    119\u001b[0m             )\n\u001b[0;32m    120\u001b[0m         \u001b[1;32mif\u001b[0m\u001b[1;33m(\u001b[0m\u001b[0msummaries_dir\u001b[0m\u001b[1;33m!=\u001b[0m\u001b[1;32mNone\u001b[0m\u001b[1;33m)\u001b[0m\u001b[1;33m:\u001b[0m\u001b[1;33m\u001b[0m\u001b[1;33m\u001b[0m\u001b[0m\n",
      "\u001b[1;32mC:\\ProgramData\\Anaconda3\\lib\\site-packages\\tensorflow\\python\\client\\session.py\u001b[0m in \u001b[0;36mrun\u001b[1;34m(self, fetches, feed_dict, options, run_metadata)\u001b[0m\n\u001b[0;32m    948\u001b[0m     \u001b[1;32mtry\u001b[0m\u001b[1;33m:\u001b[0m\u001b[1;33m\u001b[0m\u001b[1;33m\u001b[0m\u001b[0m\n\u001b[0;32m    949\u001b[0m       result = self._run(None, fetches, feed_dict, options_ptr,\n\u001b[1;32m--> 950\u001b[1;33m                          run_metadata_ptr)\n\u001b[0m\u001b[0;32m    951\u001b[0m       \u001b[1;32mif\u001b[0m \u001b[0mrun_metadata\u001b[0m\u001b[1;33m:\u001b[0m\u001b[1;33m\u001b[0m\u001b[1;33m\u001b[0m\u001b[0m\n\u001b[0;32m    952\u001b[0m         \u001b[0mproto_data\u001b[0m \u001b[1;33m=\u001b[0m \u001b[0mtf_session\u001b[0m\u001b[1;33m.\u001b[0m\u001b[0mTF_GetBuffer\u001b[0m\u001b[1;33m(\u001b[0m\u001b[0mrun_metadata_ptr\u001b[0m\u001b[1;33m)\u001b[0m\u001b[1;33m\u001b[0m\u001b[1;33m\u001b[0m\u001b[0m\n",
      "\u001b[1;32mC:\\ProgramData\\Anaconda3\\lib\\site-packages\\tensorflow\\python\\client\\session.py\u001b[0m in \u001b[0;36m_run\u001b[1;34m(self, handle, fetches, feed_dict, options, run_metadata)\u001b[0m\n\u001b[0;32m   1171\u001b[0m     \u001b[1;32mif\u001b[0m \u001b[0mfinal_fetches\u001b[0m \u001b[1;32mor\u001b[0m \u001b[0mfinal_targets\u001b[0m \u001b[1;32mor\u001b[0m \u001b[1;33m(\u001b[0m\u001b[0mhandle\u001b[0m \u001b[1;32mand\u001b[0m \u001b[0mfeed_dict_tensor\u001b[0m\u001b[1;33m)\u001b[0m\u001b[1;33m:\u001b[0m\u001b[1;33m\u001b[0m\u001b[1;33m\u001b[0m\u001b[0m\n\u001b[0;32m   1172\u001b[0m       results = self._do_run(handle, final_targets, final_fetches,\n\u001b[1;32m-> 1173\u001b[1;33m                              feed_dict_tensor, options, run_metadata)\n\u001b[0m\u001b[0;32m   1174\u001b[0m     \u001b[1;32melse\u001b[0m\u001b[1;33m:\u001b[0m\u001b[1;33m\u001b[0m\u001b[1;33m\u001b[0m\u001b[0m\n\u001b[0;32m   1175\u001b[0m       \u001b[0mresults\u001b[0m \u001b[1;33m=\u001b[0m \u001b[1;33m[\u001b[0m\u001b[1;33m]\u001b[0m\u001b[1;33m\u001b[0m\u001b[1;33m\u001b[0m\u001b[0m\n",
      "\u001b[1;32mC:\\ProgramData\\Anaconda3\\lib\\site-packages\\tensorflow\\python\\client\\session.py\u001b[0m in \u001b[0;36m_do_run\u001b[1;34m(self, handle, target_list, fetch_list, feed_dict, options, run_metadata)\u001b[0m\n\u001b[0;32m   1348\u001b[0m     \u001b[1;32mif\u001b[0m \u001b[0mhandle\u001b[0m \u001b[1;32mis\u001b[0m \u001b[1;32mNone\u001b[0m\u001b[1;33m:\u001b[0m\u001b[1;33m\u001b[0m\u001b[1;33m\u001b[0m\u001b[0m\n\u001b[0;32m   1349\u001b[0m       return self._do_call(_run_fn, feeds, fetches, targets, options,\n\u001b[1;32m-> 1350\u001b[1;33m                            run_metadata)\n\u001b[0m\u001b[0;32m   1351\u001b[0m     \u001b[1;32melse\u001b[0m\u001b[1;33m:\u001b[0m\u001b[1;33m\u001b[0m\u001b[1;33m\u001b[0m\u001b[0m\n\u001b[0;32m   1352\u001b[0m       \u001b[1;32mreturn\u001b[0m \u001b[0mself\u001b[0m\u001b[1;33m.\u001b[0m\u001b[0m_do_call\u001b[0m\u001b[1;33m(\u001b[0m\u001b[0m_prun_fn\u001b[0m\u001b[1;33m,\u001b[0m \u001b[0mhandle\u001b[0m\u001b[1;33m,\u001b[0m \u001b[0mfeeds\u001b[0m\u001b[1;33m,\u001b[0m \u001b[0mfetches\u001b[0m\u001b[1;33m)\u001b[0m\u001b[1;33m\u001b[0m\u001b[1;33m\u001b[0m\u001b[0m\n",
      "\u001b[1;32mC:\\ProgramData\\Anaconda3\\lib\\site-packages\\tensorflow\\python\\client\\session.py\u001b[0m in \u001b[0;36m_do_call\u001b[1;34m(self, fn, *args)\u001b[0m\n\u001b[0;32m   1354\u001b[0m   \u001b[1;32mdef\u001b[0m \u001b[0m_do_call\u001b[0m\u001b[1;33m(\u001b[0m\u001b[0mself\u001b[0m\u001b[1;33m,\u001b[0m \u001b[0mfn\u001b[0m\u001b[1;33m,\u001b[0m \u001b[1;33m*\u001b[0m\u001b[0margs\u001b[0m\u001b[1;33m)\u001b[0m\u001b[1;33m:\u001b[0m\u001b[1;33m\u001b[0m\u001b[1;33m\u001b[0m\u001b[0m\n\u001b[0;32m   1355\u001b[0m     \u001b[1;32mtry\u001b[0m\u001b[1;33m:\u001b[0m\u001b[1;33m\u001b[0m\u001b[1;33m\u001b[0m\u001b[0m\n\u001b[1;32m-> 1356\u001b[1;33m       \u001b[1;32mreturn\u001b[0m \u001b[0mfn\u001b[0m\u001b[1;33m(\u001b[0m\u001b[1;33m*\u001b[0m\u001b[0margs\u001b[0m\u001b[1;33m)\u001b[0m\u001b[1;33m\u001b[0m\u001b[1;33m\u001b[0m\u001b[0m\n\u001b[0m\u001b[0;32m   1357\u001b[0m     \u001b[1;32mexcept\u001b[0m \u001b[0merrors\u001b[0m\u001b[1;33m.\u001b[0m\u001b[0mOpError\u001b[0m \u001b[1;32mas\u001b[0m \u001b[0me\u001b[0m\u001b[1;33m:\u001b[0m\u001b[1;33m\u001b[0m\u001b[1;33m\u001b[0m\u001b[0m\n\u001b[0;32m   1358\u001b[0m       \u001b[0mmessage\u001b[0m \u001b[1;33m=\u001b[0m \u001b[0mcompat\u001b[0m\u001b[1;33m.\u001b[0m\u001b[0mas_text\u001b[0m\u001b[1;33m(\u001b[0m\u001b[0me\u001b[0m\u001b[1;33m.\u001b[0m\u001b[0mmessage\u001b[0m\u001b[1;33m)\u001b[0m\u001b[1;33m\u001b[0m\u001b[1;33m\u001b[0m\u001b[0m\n",
      "\u001b[1;32mC:\\ProgramData\\Anaconda3\\lib\\site-packages\\tensorflow\\python\\client\\session.py\u001b[0m in \u001b[0;36m_run_fn\u001b[1;34m(feed_dict, fetch_list, target_list, options, run_metadata)\u001b[0m\n\u001b[0;32m   1339\u001b[0m       \u001b[0mself\u001b[0m\u001b[1;33m.\u001b[0m\u001b[0m_extend_graph\u001b[0m\u001b[1;33m(\u001b[0m\u001b[1;33m)\u001b[0m\u001b[1;33m\u001b[0m\u001b[1;33m\u001b[0m\u001b[0m\n\u001b[0;32m   1340\u001b[0m       return self._call_tf_sessionrun(\n\u001b[1;32m-> 1341\u001b[1;33m           options, feed_dict, fetch_list, target_list, run_metadata)\n\u001b[0m\u001b[0;32m   1342\u001b[0m \u001b[1;33m\u001b[0m\u001b[0m\n\u001b[0;32m   1343\u001b[0m     \u001b[1;32mdef\u001b[0m \u001b[0m_prun_fn\u001b[0m\u001b[1;33m(\u001b[0m\u001b[0mhandle\u001b[0m\u001b[1;33m,\u001b[0m \u001b[0mfeed_dict\u001b[0m\u001b[1;33m,\u001b[0m \u001b[0mfetch_list\u001b[0m\u001b[1;33m)\u001b[0m\u001b[1;33m:\u001b[0m\u001b[1;33m\u001b[0m\u001b[1;33m\u001b[0m\u001b[0m\n",
      "\u001b[1;32mC:\\ProgramData\\Anaconda3\\lib\\site-packages\\tensorflow\\python\\client\\session.py\u001b[0m in \u001b[0;36m_call_tf_sessionrun\u001b[1;34m(self, options, feed_dict, fetch_list, target_list, run_metadata)\u001b[0m\n\u001b[0;32m   1427\u001b[0m     return tf_session.TF_SessionRun_wrapper(\n\u001b[0;32m   1428\u001b[0m         \u001b[0mself\u001b[0m\u001b[1;33m.\u001b[0m\u001b[0m_session\u001b[0m\u001b[1;33m,\u001b[0m \u001b[0moptions\u001b[0m\u001b[1;33m,\u001b[0m \u001b[0mfeed_dict\u001b[0m\u001b[1;33m,\u001b[0m \u001b[0mfetch_list\u001b[0m\u001b[1;33m,\u001b[0m \u001b[0mtarget_list\u001b[0m\u001b[1;33m,\u001b[0m\u001b[1;33m\u001b[0m\u001b[1;33m\u001b[0m\u001b[0m\n\u001b[1;32m-> 1429\u001b[1;33m         run_metadata)\n\u001b[0m\u001b[0;32m   1430\u001b[0m \u001b[1;33m\u001b[0m\u001b[0m\n\u001b[0;32m   1431\u001b[0m   \u001b[1;32mdef\u001b[0m \u001b[0m_call_tf_sessionprun\u001b[0m\u001b[1;33m(\u001b[0m\u001b[0mself\u001b[0m\u001b[1;33m,\u001b[0m \u001b[0mhandle\u001b[0m\u001b[1;33m,\u001b[0m \u001b[0mfeed_dict\u001b[0m\u001b[1;33m,\u001b[0m \u001b[0mfetch_list\u001b[0m\u001b[1;33m)\u001b[0m\u001b[1;33m:\u001b[0m\u001b[1;33m\u001b[0m\u001b[1;33m\u001b[0m\u001b[0m\n",
      "\u001b[1;31mKeyboardInterrupt\u001b[0m: "
     ]
    }
   ],
   "source": [
    "tf.app.run(main=main)"
   ]
  },
  {
   "cell_type": "code",
   "execution_count": null,
   "metadata": {},
   "outputs": [],
   "source": [
    "# save_checkpoint='..\\\\..\\\\logs&checkpoint\\\\c_rnn\\\\ckpt-1570'"
   ]
  },
  {
   "cell_type": "code",
   "execution_count": 1,
   "metadata": {},
   "outputs": [],
   "source": [
    "# save_path=os.path.join(FLAGS.models_dir,model_architecture,'%s-batched.pb'%os.path.basename(save_checkpoint))\n",
    "# freeze.freeze_graph(FLAGS,model_architecture,save_checkpoint,save_path,batched=True,model_size_info=model_size_info)"
   ]
  },
  {
   "cell_type": "code",
   "execution_count": null,
   "metadata": {},
   "outputs": [],
   "source": [
    "# save_path=os.path.join(FLAGS.models_dir, model_architecture, '%s.pb'%os.path.basename(FLAGS.train_dir))\n",
    "# freeze.freeze_graph(FLAGS,model_architecture,FLAGS.train_dir,save_path)"
   ]
  }
 ],
 "metadata": {
  "kernelspec": {
   "display_name": "Python 3",
   "language": "python",
   "name": "python3"
  },
  "language_info": {
   "codemirror_mode": {
    "name": "ipython",
    "version": 3
   },
   "file_extension": ".py",
   "mimetype": "text/x-python",
   "name": "python",
   "nbconvert_exporter": "python",
   "pygments_lexer": "ipython3",
   "version": "3.7.3"
  }
 },
 "nbformat": 4,
 "nbformat_minor": 2
}
