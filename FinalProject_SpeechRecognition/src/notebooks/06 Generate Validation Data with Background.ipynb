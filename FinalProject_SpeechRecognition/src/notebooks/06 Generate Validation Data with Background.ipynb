{
 "cells": [
  {
   "cell_type": "code",
   "execution_count": 1,
   "metadata": {},
   "outputs": [],
   "source": [
    "import warnings\n",
    "warnings.filterwarnings(\"ignore\")\n",
    "\n",
    "import sys\n",
    "import os\n",
    "import tensorflow as tf\n",
    "import numpy as np\n",
    "\n",
    "# sys.path.append(\"../libs\")\n",
    "sys.path.insert(1, '../')\n",
    "\n",
    "from libs import input_data\n",
    "from libs import models\n",
    "from libs import label_wav"
   ]
  },
  {
   "cell_type": "code",
   "execution_count": 2,
   "metadata": {},
   "outputs": [],
   "source": [
    "flags=tf.app.flags"
   ]
  },
  {
   "cell_type": "code",
   "execution_count": 3,
   "metadata": {},
   "outputs": [],
   "source": [
    "flags=tf.app.flags\n",
    "#Important Directories\n",
    "flags.DEFINE_string('data_dir','..\\\\..\\\\_inputs\\\\raw','Train Data Folder')\n",
    "flags.DEFINE_string('summaries_dir','..\\\\..\\\\summaries','Summaries Folder')\n",
    "flags.DEFINE_string('train_dir','..\\\\..\\\\logs&checkpoint','Directory to write event logs and checkpoint')\n",
    "flags.DEFINE_string('models_dir','..\\\\..\\\\models','Models Folder')\n",
    "#Task Specific Parameters\n",
    "flags.DEFINE_string('wanted_words','yes,no,up,down,left,right,on,off,stop,go','Wanted Words')\n",
    "flags.DEFINE_float('validation_percentage',20,'Validation Percentage')\n",
    "flags.DEFINE_float('testing_percentage',0,'Testing Percentage')\n",
    "flags.DEFINE_integer('sample_rate',16000,'Sample Rate')\n",
    "flags.DEFINE_integer('clip_duration_ms',1000,'Clip Duration in ms')\n",
    "flags.DEFINE_float('window_size_ms',40,'How long each spectogram timeslice is')\n",
    "flags.DEFINE_float('window_stride_ms',20.0,'How far to move in time between frequency windows.')\n",
    "flags.DEFINE_integer('dct_coefficient_count',40,'How many bins to use for the MFCC fingerprint')\n",
    "flags.DEFINE_float('time_shift_ms',200.0,'Range to randomly shift the training audio by in time.')\n",
    "FLAGS=flags.FLAGS"
   ]
  },
  {
   "cell_type": "code",
   "execution_count": 4,
   "metadata": {},
   "outputs": [],
   "source": [
    "silence_percentage=10.0\n",
    "unknown_percentage=10\n",
    "background_frequency=0.8\n",
    "background_volume=0.8\n",
    "save_folder='..\\\\..\\\\_inputs\\\\train'"
   ]
  },
  {
   "cell_type": "code",
   "execution_count": 5,
   "metadata": {},
   "outputs": [],
   "source": [
    "remaining_args = FLAGS([sys.argv[0]] + [flag for flag in sys.argv if flag.startswith(\"--\")])\n",
    "assert(remaining_args == [sys.argv[0]])"
   ]
  },
  {
   "cell_type": "code",
   "execution_count": 6,
   "metadata": {},
   "outputs": [],
   "source": [
    "train_dir=os.path.join(FLAGS.data_dir,'train','audio')"
   ]
  },
  {
   "cell_type": "code",
   "execution_count": 7,
   "metadata": {},
   "outputs": [
    {
     "name": "stdout",
     "output_type": "stream",
     "text": [
      "..\\..\\_inputs\\raw\\train\\audio\\*\\*.wav\n"
     ]
    },
    {
     "name": "stderr",
     "output_type": "stream",
     "text": [
      "W0119 22:54:49.195368  8864 deprecation_wrapper.py:119] From ..\\libs\\input_data.py:305: The name tf.Session is deprecated. Please use tf.compat.v1.Session instead.\n",
      "\n",
      "W0119 22:54:49.233155  8864 deprecation_wrapper.py:119] From ..\\libs\\input_data.py:306: The name tf.placeholder is deprecated. Please use tf.compat.v1.placeholder instead.\n",
      "\n"
     ]
    },
    {
     "name": "stdout",
     "output_type": "stream",
     "text": [
      "..\\..\\_inputs\\raw\\train\\audio\\_background_noise_\\doing_the_dishes.wav\n",
      "..\\..\\_inputs\\raw\\train\\audio\\_background_noise_\\dude_miaowing.wav\n",
      "..\\..\\_inputs\\raw\\train\\audio\\_background_noise_\\exercise_bike.wav\n",
      "..\\..\\_inputs\\raw\\train\\audio\\_background_noise_\\pink_noise.wav\n",
      "..\\..\\_inputs\\raw\\train\\audio\\_background_noise_\\running_tap.wav\n",
      "..\\..\\_inputs\\raw\\train\\audio\\_background_noise_\\white_noise.wav\n",
      "Tensor(\"AudioSpectrogram:0\", shape=(?, 49, 513), dtype=float32)\n"
     ]
    }
   ],
   "source": [
    "model_settings = models.prepare_model_settings(\n",
    "      len(input_data.prepare_words_list(FLAGS.wanted_words.split(','))),\n",
    "      FLAGS.sample_rate, FLAGS.clip_duration_ms, FLAGS.window_size_ms,\n",
    "      FLAGS.window_stride_ms, FLAGS.dct_coefficient_count)\n",
    "audio_processor = input_data.AudioProcessor(\n",
    "      train_dir, silence_percentage, unknown_percentage,\n",
    "      FLAGS.wanted_words.split(','), FLAGS.validation_percentage,\n",
    "      FLAGS.testing_percentage, model_settings)"
   ]
  },
  {
   "cell_type": "code",
   "execution_count": 8,
   "metadata": {},
   "outputs": [],
   "source": [
    "labels_list=input_data.prepare_words_list(FLAGS.wanted_words.split(','))"
   ]
  },
  {
   "cell_type": "code",
   "execution_count": 9,
   "metadata": {},
   "outputs": [],
   "source": [
    "with tf.Session() as sess:\n",
    "    data,one_hot=audio_processor.get_data_raw(-1,0,model_settings,background_frequency,background_volume,FLAGS.time_shift_ms,\n",
    "                             'training',sess)\n",
    "one_hot=one_hot.argmax(axis=1)\n",
    "truth_labels=[]\n",
    "for i in range(0,one_hot.shape[0]):\n",
    "    truth_labels.append(labels_list[one_hot[i]])\n",
    "truth_labels=np.array(truth_labels)"
   ]
  },
  {
   "cell_type": "code",
   "execution_count": 13,
   "metadata": {},
   "outputs": [],
   "source": [
    "for i in range(truth_labels.shape[0]):\n",
    "    save_file=os.path.join(save_folder,'test','audio','%s-%d.wav'%(truth_labels[i],i))\n",
    "    input_data.save_wav_file(save_file,data[i],FLAGS.sample_rate)"
   ]
  },
  {
   "cell_type": "code",
   "execution_count": null,
   "metadata": {},
   "outputs": [],
   "source": []
  }
 ],
 "metadata": {
  "kernelspec": {
   "display_name": "Python 3",
   "language": "python",
   "name": "python3"
  },
  "language_info": {
   "codemirror_mode": {
    "name": "ipython",
    "version": 3
   },
   "file_extension": ".py",
   "mimetype": "text/x-python",
   "name": "python",
   "nbconvert_exporter": "python",
   "pygments_lexer": "ipython3",
   "version": "3.7.3"
  }
 },
 "nbformat": 4,
 "nbformat_minor": 2
}
