{
 "cells": [
  {
   "cell_type": "code",
   "execution_count": 1,
   "metadata": {
    "_cell_guid": "9b2fb550-845b-475b-80b8-908c71f9fbd0",
    "_uuid": "38022b12c61c8906297b702514e0654e29ff359b"
   },
   "outputs": [],
   "source": [
    "import matplotlib.pyplot as plt\n",
    "from matplotlib.backend_bases import RendererBase\n",
    "from scipy import signal\n",
    "from scipy.io import wavfile\n",
    "#import soundfile as sf\n",
    "import os\n",
    "import numpy as np\n",
    "from PIL import Image\n",
    "from scipy.fftpack import fft\n",
    "\n",
    "%matplotlib inline"
   ]
  },
  {
   "cell_type": "code",
   "execution_count": 2,
   "metadata": {},
   "outputs": [],
   "source": [
    "audio_path = '../../../_input/raw/train/audio/'\n",
    "pict_Path  = '../../../_input/raw/train/pics/'\n",
    "test_audio_path = '../../../_input/raw/test/audio/'\n",
    "test_pict_Path  = '../../../_input/raw/test/pics/'\n",
    "samples = []"
   ]
  },
  {
   "cell_type": "markdown",
   "metadata": {},
   "source": [
    "#### Create local directories and identify subdirectories"
   ]
  },
  {
   "cell_type": "code",
   "execution_count": 3,
   "metadata": {},
   "outputs": [],
   "source": [
    "# subFolderList = []\n",
    "# for x in os.listdir(audio_path):\n",
    "#     if os.path.isdir(audio_path + '/' + x):\n",
    "#         subFolderList.append(x)\n",
    "\n",
    "if not os.path.exists(pict_Path):\n",
    "    os.makedirs(pict_Path)\n",
    "\n",
    "if not os.path.exists(test_pict_Path):\n",
    "    os.makedirs(test_pict_Path)\n",
    "\n",
    "    \n",
    "subFolderList = []\n",
    "for x in os.listdir(audio_path):\n",
    "    if os.path.isdir(audio_path + '/' + x):\n",
    "        subFolderList.append(x)\n",
    "        if not os.path.exists(pict_Path + '/' + x):\n",
    "            os.makedirs(pict_Path +'/'+ x)"
   ]
  },
  {
   "cell_type": "code",
   "execution_count": 4,
   "metadata": {},
   "outputs": [
    {
     "name": "stdout",
     "output_type": "stream",
     "text": [
      "count: 1746 : dog\n",
      "count: 1733 : cat\n",
      "count: 2375 : no\n",
      "count: 1746 : marvin\n",
      "count: 2376 : zero\n",
      "count: 2353 : left\n",
      "count: 2372 : four\n",
      "count: 1731 : bird\n",
      "count: 2370 : one\n",
      "count: 2373 : two\n",
      "count: 2377 : seven\n",
      "count: 2357 : off\n",
      "count: 2359 : down\n",
      "count: 6 : _background_noise_\n",
      "count: 1742 : happy\n",
      "count: 2352 : eight\n",
      "count: 2357 : five\n",
      "count: 2380 : stop\n",
      "count: 1734 : sheila\n",
      "count: 1750 : house\n",
      "count: 1713 : bed\n",
      "count: 1733 : tree\n",
      "count: 2367 : right\n",
      "count: 2356 : three\n",
      "count: 2367 : on\n",
      "count: 2372 : go\n",
      "count: 2369 : six\n",
      "count: 2364 : nine\n",
      "count: 2377 : yes\n",
      "count: 1745 : wow\n",
      "count: 2375 : up\n",
      "64727\n"
     ]
    }
   ],
   "source": [
    "sample_audio = []\n",
    "total = 0\n",
    "for x in subFolderList:\n",
    "    \n",
    "    # get all the wave files\n",
    "    all_files = [y for y in os.listdir(audio_path + x) if '.wav' in y]\n",
    "    total += len(all_files)\n",
    "    # collect the first file from each dir\n",
    "    sample_audio.append(audio_path  + x + '/'+ all_files[0])\n",
    "    \n",
    "    # show file counts\n",
    "    print('count: %d : %s' % (len(all_files), x ))\n",
    "print(total)"
   ]
  },
  {
   "cell_type": "code",
   "execution_count": 8,
   "metadata": {},
   "outputs": [],
   "source": [
    "def wav2img(wav_path, targetdir='', figsize=(4,4)):\n",
    "    \"\"\"\n",
    "    takes in wave file path\n",
    "    and the fig size. Default 4,4 will make images 288 x 288\n",
    "    \"\"\"\n",
    "\n",
    "    fig = plt.figure(figsize=figsize)    \n",
    "    # use soundfile library to read in the wave files\n",
    "    samplerate, test_sound  = wavfile.read(wav_path)\n",
    "    _, spectrogram = log_specgram(test_sound, samplerate)\n",
    "    \n",
    "    ## create output path\n",
    "    output_file = wav_path.split('/')[-1].split('.wav')[0]\n",
    "    output_file = targetdir +'/'+ output_file\n",
    "    #plt.imshow(spectrogram.T, aspect='auto', origin='lower')\n",
    "    plt.imsave('%s.png' % output_file, spectrogram)\n",
    "    plt.close()"
   ]
  },
  {
   "cell_type": "markdown",
   "metadata": {},
   "source": [
    "#### Function: convert audio to waveform images"
   ]
  },
  {
   "cell_type": "code",
   "execution_count": 9,
   "metadata": {},
   "outputs": [],
   "source": [
    "def wav2img_waveform(wav_path, targetdir='', figsize=(4,4)):\n",
    "    samplerate,test_sound  = wavfile.read(sample_audio[0])\n",
    "    fig = plt.figure(figsize=figsize)\n",
    "    plt.plot(test_sound)\n",
    "    plt.axis('off')\n",
    "    output_file = wav_path.split('/')[-1].split('.wav')[0]\n",
    "    output_file = targetdir +'/'+ output_file\n",
    "    plt.savefig('%s.png' % output_file)\n",
    "    plt.close()"
   ]
  },
  {
   "cell_type": "code",
   "execution_count": 11,
   "metadata": {},
   "outputs": [],
   "source": [
    "def log_specgram(audio, sample_rate, window_size=20,\n",
    "                 step_size=10, eps=1e-10):\n",
    "    nperseg = int(round(window_size * sample_rate / 1e3))\n",
    "    noverlap = int(round(step_size * sample_rate / 1e3))\n",
    "    freqs, _, spec = signal.spectrogram(audio,\n",
    "                                    fs=sample_rate,\n",
    "                                    window='hann',\n",
    "                                    nperseg=nperseg,\n",
    "                                    noverlap=noverlap,\n",
    "                                    detrend=False)\n",
    "    return freqs, np.log(spec.T.astype(np.float32) + eps)"
   ]
  },
  {
   "cell_type": "code",
   "execution_count": 12,
   "metadata": {},
   "outputs": [
    {
     "name": "stdout",
     "output_type": "stream",
     "text": [
      "0 : dog\n",
      "1 : cat\n",
      "2 : no\n",
      "3 : marvin\n",
      "4 : zero\n",
      "5 : left\n",
      "6 : four\n",
      "7 : bird\n",
      "8 : one\n",
      "9 : two\n",
      "10 : seven\n",
      "11 : off\n",
      "12 : down\n",
      "13 : _background_noise_\n"
     ]
    },
    {
     "name": "stderr",
     "output_type": "stream",
     "text": [
      "/usr/local/lib/python3.5/dist-packages/scipy/io/wavfile.py:273: WavFileWarning: Chunk (non-data) not understood, skipping it.\n",
      "  WavFileWarning)\n"
     ]
    },
    {
     "name": "stdout",
     "output_type": "stream",
     "text": [
      "14 : happy\n",
      "15 : eight\n",
      "16 : five\n",
      "17 : stop\n",
      "18 : sheila\n",
      "19 : house\n",
      "20 : bed\n",
      "21 : tree\n",
      "22 : right\n",
      "23 : three\n",
      "24 : on\n",
      "25 : go\n",
      "26 : six\n",
      "27 : nine\n",
      "28 : yes\n",
      "29 : wow\n",
      "30 : up\n"
     ]
    }
   ],
   "source": [
    "for i, x in enumerate(subFolderList):\n",
    "    print(i, ':', x)\n",
    "    # get all the wave files\n",
    "    all_files = [y for y in os.listdir(audio_path + x) if '.wav' in y]\n",
    "    for file in all_files[:10]:\n",
    "        wav2img(audio_path + x + '/' + file, pict_Path + x)"
   ]
  },
  {
   "cell_type": "code",
   "execution_count": 39,
   "metadata": {},
   "outputs": [],
   "source": [
    "# # get all the wave files\n",
    "# all_files = [y for y in os.listdir(test_audio_path + x) if '.wav' in y]\n",
    "# for file in all_files:\n",
    "#     wav2img(test_audio_path + x + '/' + file, test_pict_Path + x)"
   ]
  }
 ],
 "metadata": {
  "kernelspec": {
   "display_name": "Python 3",
   "language": "python",
   "name": "python3"
  },
  "language_info": {
   "codemirror_mode": {
    "name": "ipython",
    "version": 3
   },
   "file_extension": ".py",
   "mimetype": "text/x-python",
   "name": "python",
   "nbconvert_exporter": "python",
   "pygments_lexer": "ipython3",
   "version": "3.5.2"
  }
 },
 "nbformat": 4,
 "nbformat_minor": 1
}
