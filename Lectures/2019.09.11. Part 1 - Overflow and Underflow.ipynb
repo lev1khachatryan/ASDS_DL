{
 "cells": [
  {
   "cell_type": "markdown",
   "metadata": {},
   "source": [
    "# <div align=\"center\">Overflow and Underflow</div>\n",
    "---------------------------------------------------------------------\n",
    "\n",
    "you can Find me on Github:\n",
    "> ###### [ GitHub](https://github.com/lev1khachatryan)"
   ]
  },
  {
   "cell_type": "markdown",
   "metadata": {},
   "source": [
    " "
   ]
  },
  {
   "cell_type": "markdown",
   "metadata": {},
   "source": [
    " "
   ]
  },
  {
   "cell_type": "markdown",
   "metadata": {},
   "source": [
    "The fundamental difficulty in performing continuous math on a digital computer\n",
    "is that we need to represent infinitely many real numbers with a finite number\n",
    "of bit patterns. This means that for almost all real numbers, we incur some\n",
    "approximation error when we represent the number in the computer. In many\n",
    "cases, this is just rounding error. Rounding error is problematic, especially when\n",
    "it compounds across many operations, and can cause algorithms that work in\n",
    "theory to fail in practice if they are not designed to minimize the accumulation of\n",
    "rounding error. \n",
    "\n",
    "One form of rounding error that is particularly devastating is ***underflow***.\n",
    "Underflow occurs when ***numbers near zero are rounded to zero***. Many functions\n",
    "behave qualitatively differently when their argument is zero rather than a small\n",
    "positive number. For example, we usually want to avoid division by zero (some software environments will raise exceptions when this occurs, others will return a\n",
    "result with a placeholder not-a-number value) or taking the logarithm of zero (this\n",
    "is usually treated as −∞, which then becomes not-a-number if it is used for many\n",
    "further arithmetic operations).\n",
    "\n",
    "Another highly damaging form of numerical error is ***overflow***. Overflow occurs\n",
    "when ***numbers with large magnitude are approximated as ∞ or −∞. Further\n",
    "arithmetic will usually change these infinite values into not-a-number values.***\n",
    "\n",
    "One example of a function that must be stabilized against underflow and\n",
    "overflow is the softmax function. The softmax function is often used to predict the\n",
    "probabilities associated with a multinoulli distribution. The softmax function is\n",
    "defined to be\n",
    "\n",
    "<img src='assets/20190911/1.png'>\n",
    "\n",
    "Consider what happens when all of the $x_{i}$ are equal to some constant c. Analytically,\n",
    "we can see that all of the outputs should be equal to $1/n$. Numerically, this may\n",
    "not occur when c has large magnitude. If c is very negative, then $exp(c)$ will\n",
    "underflow. This means the denominator of the softmax will become 0, so the final\n",
    "result is undefined. When c is very large and positive, $exp(c)$ will overflow, again\n",
    "resulting in the expression as a whole being undefined. ***Both of these difficulties\n",
    "can be resolved by instead evaluating softmax(z) where $z = x − max_{i}$ $x_{i}$***. Simple\n",
    "algebra shows that the value of the softmax function is not changed analytically by\n",
    "adding or subtracting a scalar from the input vector. Subtracting $max_{i}$ $x_{i}$ results\n",
    "in the largest argument to exp being 0, which rules out the possibility of overflow.\n",
    "Likewise, at least one term in the denominator has a value of 1, which rules out\n",
    "the possibility of underflow in the denominator leading to a division by zero.\n",
    "\n",
    "***There is still one small problem***. Underflow in the numerator can still cause\n",
    "the expression as a whole to evaluate to zero. This means that if we implement\n",
    "log softmax(x) by first running the softmax subroutine then passing the result to\n",
    "the log function, we could erroneously obtain −∞. Instead, we must implement\n",
    "a separate function that calculates log softmax in a numerically stable way. The\n",
    "log softmax function can be stabilized using the same trick as we used to stabilize\n",
    "the softmax function.\n",
    "\n",
    "For the most part, we do not explicitly detail all of the numerical considerations\n",
    "involved in implementing the various algorithms described in this book. Developers\n",
    "of low-level libraries should keep numerical issues in mind when implementing\n",
    "deep learning algorithms. Most readers of this book can simply rely on lowlevel libraries that provide stable implementations. In some cases, it is possible\n",
    "to implement a new algorithm and have the new implementation automatically stabilized. Theano (Bergstra et al., 2010; Bastien et al., 2012) is an example of a software package that automatically detects and stabilizes many common\n",
    "numerically unstable expressions that arise in the context of deep learning."
   ]
  },
  {
   "cell_type": "markdown",
   "metadata": {},
   "source": [
    " "
   ]
  },
  {
   "cell_type": "markdown",
   "metadata": {},
   "source": [
    " "
   ]
  },
  {
   "cell_type": "markdown",
   "metadata": {},
   "source": [
    " "
   ]
  },
  {
   "cell_type": "markdown",
   "metadata": {},
   "source": [
    " "
   ]
  },
  {
   "cell_type": "markdown",
   "metadata": {},
   "source": [
    " "
   ]
  },
  {
   "cell_type": "markdown",
   "metadata": {},
   "source": [
    " "
   ]
  },
  {
   "cell_type": "markdown",
   "metadata": {},
   "source": [
    " "
   ]
  }
 ],
 "metadata": {
  "kernelspec": {
   "display_name": "Python 3",
   "language": "python",
   "name": "python3"
  },
  "language_info": {
   "codemirror_mode": {
    "name": "ipython",
    "version": 3
   },
   "file_extension": ".py",
   "mimetype": "text/x-python",
   "name": "python",
   "nbconvert_exporter": "python",
   "pygments_lexer": "ipython3",
   "version": "3.7.3"
  }
 },
 "nbformat": 4,
 "nbformat_minor": 2
}
